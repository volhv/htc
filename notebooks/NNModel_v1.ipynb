{
 "cells": [
  {
   "cell_type": "code",
   "execution_count": 4,
   "id": "93fb5c9b-32d1-4ede-813f-333b72b5df24",
   "metadata": {},
   "outputs": [],
   "source": [
    "%load_ext autoreload\n",
    "%autoreload 2\n",
    "\n",
    "import pandas as pd\n",
    "\n",
    "import torch; torch.set_default_tensor_type(torch.cuda.FloatTensor)\n",
    "\n",
    "hist_data = pd.read_csv('../datasets/hist_data.csv.gz')\n",
    "test_data = pd.read_csv('../datasets/test.csv.gz')\n"
   ]
  },
  {
   "cell_type": "code",
   "execution_count": 5,
   "id": "80bc7adc-1b2f-4d85-98e2-b361056b4a99",
   "metadata": {},
   "outputs": [],
   "source": [
    "from models.nnmodel import NNModel"
   ]
  },
  {
   "cell_type": "code",
   "execution_count": 6,
   "id": "1164ac8a-e7b0-4e0d-b5a1-89b19106b32f",
   "metadata": {},
   "outputs": [],
   "source": [
    "nnm = NNModel()"
   ]
  },
  {
   "cell_type": "code",
   "execution_count": 7,
   "id": "bb5ef3c3-680d-416a-9296-a310d60efe37",
   "metadata": {},
   "outputs": [
    {
     "name": "stdout",
     "output_type": "stream",
     "text": [
      "Epoch:  0\n",
      "Loss:  53280.81252002716\n",
      "Epoch:  1\n"
     ]
    },
    {
     "ename": "KeyboardInterrupt",
     "evalue": "",
     "output_type": "error",
     "traceback": [
      "\u001b[0;31m---------------------------------------------------------------------------\u001b[0m",
      "\u001b[0;31mKeyboardInterrupt\u001b[0m                         Traceback (most recent call last)",
      "\u001b[0;32m/tmp/ipykernel_7298/2821062184.py\u001b[0m in \u001b[0;36m<cell line: 1>\u001b[0;34m()\u001b[0m\n\u001b[0;32m----> 1\u001b[0;31m \u001b[0mnnm\u001b[0m\u001b[0;34m.\u001b[0m\u001b[0mtrain\u001b[0m\u001b[0;34m(\u001b[0m\u001b[0mhist_data\u001b[0m\u001b[0;34m,\u001b[0m \u001b[0mn_epochs\u001b[0m\u001b[0;34m=\u001b[0m\u001b[0;36m20\u001b[0m\u001b[0;34m)\u001b[0m\u001b[0;34m\u001b[0m\u001b[0;34m\u001b[0m\u001b[0m\n\u001b[0m",
      "\u001b[0;32m/shared/notebooks/htc/notebooks/models/nnmodel.py\u001b[0m in \u001b[0;36mtrain\u001b[0;34m(self, X_train, n_epochs, n_batch, n_embed, n_ctx, lr)\u001b[0m\n\u001b[1;32m    185\u001b[0m                 \u001b[0;31m# Step 4. Compute your loss function. (Again, Torch wants the target\u001b[0m\u001b[0;34m\u001b[0m\u001b[0;34m\u001b[0m\u001b[0m\n\u001b[1;32m    186\u001b[0m                 \u001b[0;31m# word wrapped in a tensor)\u001b[0m\u001b[0;34m\u001b[0m\u001b[0;34m\u001b[0m\u001b[0m\n\u001b[0;32m--> 187\u001b[0;31m                 target_list = torch.tensor(\n\u001b[0m\u001b[1;32m    188\u001b[0m                     [prod_to_ix[w] for w in target], dtype=torch.long)\n\u001b[1;32m    189\u001b[0m                 \u001b[0mloss\u001b[0m \u001b[0;34m=\u001b[0m \u001b[0mloss_function\u001b[0m\u001b[0;34m(\u001b[0m\u001b[0mlog_probs\u001b[0m\u001b[0;34m,\u001b[0m \u001b[0mtarget_list\u001b[0m\u001b[0;34m)\u001b[0m\u001b[0;34m\u001b[0m\u001b[0;34m\u001b[0m\u001b[0m\n",
      "\u001b[0;31mKeyboardInterrupt\u001b[0m: "
     ]
    }
   ],
   "source": [
    "nnm.train(hist_data, n_epochs=20)"
   ]
  },
  {
   "cell_type": "code",
   "execution_count": null,
   "id": "5dd66bcf-5c18-46ef-9e96-1e48b91d0654",
   "metadata": {},
   "outputs": [],
   "source": [
    "#nnm.model.to(\"cuda\")\n",
    "nnm.model.predict(444)"
   ]
  },
  {
   "cell_type": "code",
   "execution_count": null,
   "id": "868f0473-f6b8-4a74-8bcc-a564b4d62173",
   "metadata": {},
   "outputs": [],
   "source": []
  },
  {
   "cell_type": "code",
   "execution_count": 7,
   "id": "bc828fe2-c7bb-429a-b054-5e3220543f4e",
   "metadata": {},
   "outputs": [
    {
     "data": {
      "text/plain": [
       "[202872237, 202872237, 202872237, 202820148, 202820148]"
      ]
     },
     "execution_count": 7,
     "metadata": {},
     "output_type": "execute_result"
    }
   ],
   "source": [
    "nnm.predict_item(203338264)"
   ]
  },
  {
   "cell_type": "code",
   "execution_count": 8,
   "id": "c99815a0-8d83-4354-ac7e-763078c6167c",
   "metadata": {},
   "outputs": [],
   "source": [
    "test = nnm.predict(test_data)\n",
    "test['preds'].to_csv('pred.csv')"
   ]
  },
  {
   "cell_type": "code",
   "execution_count": 9,
   "id": "95877601-4f38-4847-84cc-396114ba7d27",
   "metadata": {},
   "outputs": [
    {
     "data": {
      "text/plain": [
       "0.20449908850109738"
      ]
     },
     "execution_count": 9,
     "metadata": {},
     "output_type": "execute_result"
    }
   ],
   "source": [
    "nnm.quality(test_data)"
   ]
  },
  {
   "cell_type": "code",
   "execution_count": 11,
   "id": "7f3f9f71-a34c-4391-a5fb-2b25c90f295b",
   "metadata": {},
   "outputs": [
    {
     "data": {
      "text/plain": [
       "pav_order_id\n",
       "98520039491    [203068900, 202872237, 202820148]\n",
       "98520621894    [202820148, 203068900, 202872237]\n",
       "98514372058               [202820148, 202872237]\n",
       "98513786140    [202872237, 202820148, 203068900]\n",
       "98518505603               [202820148, 202872237]\n",
       "                             ...                \n",
       "98518859048    [202872237, 202820148, 203068900]\n",
       "98514515483    [202872237, 202820148, 203068900]\n",
       "98520722782    [203068900, 202872237, 202820148]\n",
       "98518057474               [202820148, 202872237]\n",
       "98519411722               [202820148, 202872237]\n",
       "Name: preds, Length: 100, dtype: object"
      ]
     },
     "execution_count": 11,
     "metadata": {},
     "output_type": "execute_result"
    }
   ],
   "source": [
    "test.preds.sample(100)"
   ]
  },
  {
   "cell_type": "code",
   "execution_count": 2,
   "id": "f8cdf795-c162-4944-8fbb-4a25e8fc9747",
   "metadata": {},
   "outputs": [],
   "source": [
    "# prep_input(hist_data)"
   ]
  },
  {
   "cell_type": "code",
   "execution_count": 3,
   "id": "a1b5ee10-fb23-4845-b637-7114b388ebb0",
   "metadata": {},
   "outputs": [],
   "source": [
    "import random\n"
   ]
  },
  {
   "cell_type": "code",
   "execution_count": 68,
   "id": "d423f730-ee82-48fb-aa4b-05e564489ebe",
   "metadata": {},
   "outputs": [
    {
     "data": {
      "text/plain": [
       "tensor([[0., 1., 0., 0., 0., 1., 1., 0., 0., 0., 0.],\n",
       "        [0., 1., 0., 0., 0., 1., 1., 0., 0., 0., 1.],\n",
       "        [0., 1., 0., 0., 0., 1., 1., 0., 0., 0., 0.],\n",
       "        [0., 0., 0., 0., 0., 1., 1., 1., 0., 0., 0.],\n",
       "        [0., 1., 0., 0., 0., 1., 1., 0., 0., 0., 1.]])"
      ]
     },
     "execution_count": 68,
     "metadata": {},
     "output_type": "execute_result"
    }
   ],
   "source": [
    "\n",
    "def sample1(src, seed, n_ctx=3, n_smpl=15):\n",
    "    max_size = len(src)\n",
    "    vals = [*src]\n",
    "    samples = torch.zeros(n_smpl, seed + 1)\n",
    "    for i in range(n_smpl):\n",
    "        sym = random.randint(0, seed)\n",
    "        rz = 1 if sym in src else 0\n",
    "        j = random.randint(0, max_size - n_ctx)\n",
    "        samples[i, vals[j:j + n_ctx]] = 1\n",
    "        samples[i, seed] = rz\n",
    "    return samples\n",
    "    \n",
    "sample1(set([1, 5, 6, 10, 1, 7]), 10, 3, 5)"
   ]
  },
  {
   "cell_type": "code",
   "execution_count": 14,
   "id": "bbb29c82-9fc0-4c48-b5f8-310096463cf8",
   "metadata": {},
   "outputs": [],
   "source": [
    "def sample2(src, seed, n_smpl):\n",
    "    max_size = len(src)\n",
    "    vals = [*src]\n",
    "    result = []\n",
    "    for i in range(n_smpl):\n",
    "        j = random.randint(1, max_size-1)\n",
    "        context = vals[j-1]\n",
    "        target = vals[j]\n",
    "        result += [(target, context)]\n",
    "    return result"
   ]
  },
  {
   "cell_type": "code",
   "execution_count": 15,
   "id": "a9bd999e-e1ce-4c2d-8bfe-cd878e7a88a1",
   "metadata": {},
   "outputs": [],
   "source": [
    "prod_to_ix = {itemd_id: ix for ix, itemd_id in enumerate(hist_data[\"item_id\"].unique()) }\n",
    "\n",
    "def prep_input(X_train, seed=64):\n",
    "    X_train[\"ix\"] = X_train[\"item_id\"].map(prod_to_ix)\n",
    "    pairs = X_train[['pav_order_id', 'item_id']]\\\n",
    "                .groupby('pav_order_id')\\\n",
    "                .agg(set)\n",
    "    x = pairs['item_id'].apply(lambda x: sample2(x, seed, n_smpl=5))\n",
    "    return x\n",
    "    \n"
   ]
  },
  {
   "cell_type": "code",
   "execution_count": 16,
   "id": "66819a06-1ac1-4529-9c8f-2791fcc3ddee",
   "metadata": {},
   "outputs": [],
   "source": [
    "def flatten(t):\n",
    "    return [item for sublist in t for item in sublist]"
   ]
  },
  {
   "cell_type": "code",
   "execution_count": 17,
   "id": "ee451c00-bcea-4886-8c3a-24f7e0e1fbbc",
   "metadata": {},
   "outputs": [
    {
     "ename": "NameError",
     "evalue": "name 'random' is not defined",
     "output_type": "error",
     "traceback": [
      "\u001b[0;31m---------------------------------------------------------------------------\u001b[0m",
      "\u001b[0;31mNameError\u001b[0m                                 Traceback (most recent call last)",
      "\u001b[0;32m/tmp/ipykernel_6502/434792691.py\u001b[0m in \u001b[0;36m<cell line: 1>\u001b[0;34m()\u001b[0m\n\u001b[0;32m----> 1\u001b[0;31m \u001b[0mngrams\u001b[0m \u001b[0;34m=\u001b[0m \u001b[0mprep_input\u001b[0m\u001b[0;34m(\u001b[0m\u001b[0mhist_data\u001b[0m\u001b[0;34m)\u001b[0m\u001b[0;34m\u001b[0m\u001b[0;34m\u001b[0m\u001b[0m\n\u001b[0m",
      "\u001b[0;32m/tmp/ipykernel_6502/818288104.py\u001b[0m in \u001b[0;36mprep_input\u001b[0;34m(X_train, seed)\u001b[0m\n\u001b[1;32m      6\u001b[0m                 \u001b[0;34m.\u001b[0m\u001b[0mgroupby\u001b[0m\u001b[0;34m(\u001b[0m\u001b[0;34m'pav_order_id'\u001b[0m\u001b[0;34m)\u001b[0m\u001b[0;31m\\\u001b[0m\u001b[0;34m\u001b[0m\u001b[0;34m\u001b[0m\u001b[0m\n\u001b[1;32m      7\u001b[0m                 \u001b[0;34m.\u001b[0m\u001b[0magg\u001b[0m\u001b[0;34m(\u001b[0m\u001b[0mset\u001b[0m\u001b[0;34m)\u001b[0m\u001b[0;34m\u001b[0m\u001b[0;34m\u001b[0m\u001b[0m\n\u001b[0;32m----> 8\u001b[0;31m     \u001b[0mx\u001b[0m \u001b[0;34m=\u001b[0m \u001b[0mpairs\u001b[0m\u001b[0;34m[\u001b[0m\u001b[0;34m'item_id'\u001b[0m\u001b[0;34m]\u001b[0m\u001b[0;34m.\u001b[0m\u001b[0mapply\u001b[0m\u001b[0;34m(\u001b[0m\u001b[0;32mlambda\u001b[0m \u001b[0mx\u001b[0m\u001b[0;34m:\u001b[0m \u001b[0msample2\u001b[0m\u001b[0;34m(\u001b[0m\u001b[0mx\u001b[0m\u001b[0;34m,\u001b[0m \u001b[0mseed\u001b[0m\u001b[0;34m,\u001b[0m \u001b[0mn_smpl\u001b[0m\u001b[0;34m=\u001b[0m\u001b[0;36m5\u001b[0m\u001b[0;34m)\u001b[0m\u001b[0;34m)\u001b[0m\u001b[0;34m\u001b[0m\u001b[0;34m\u001b[0m\u001b[0m\n\u001b[0m\u001b[1;32m      9\u001b[0m     \u001b[0;32mreturn\u001b[0m \u001b[0mx\u001b[0m\u001b[0;34m\u001b[0m\u001b[0;34m\u001b[0m\u001b[0m\n\u001b[1;32m     10\u001b[0m \u001b[0;34m\u001b[0m\u001b[0m\n",
      "\u001b[0;32m~/miniconda3/lib/python3.9/site-packages/pandas/core/series.py\u001b[0m in \u001b[0;36mapply\u001b[0;34m(self, func, convert_dtype, args, **kwds)\u001b[0m\n\u001b[1;32m   4136\u001b[0m             \u001b[0;32melse\u001b[0m\u001b[0;34m:\u001b[0m\u001b[0;34m\u001b[0m\u001b[0;34m\u001b[0m\u001b[0m\n\u001b[1;32m   4137\u001b[0m                 \u001b[0mvalues\u001b[0m \u001b[0;34m=\u001b[0m \u001b[0mself\u001b[0m\u001b[0;34m.\u001b[0m\u001b[0mastype\u001b[0m\u001b[0;34m(\u001b[0m\u001b[0mobject\u001b[0m\u001b[0;34m)\u001b[0m\u001b[0;34m.\u001b[0m\u001b[0m_values\u001b[0m\u001b[0;34m\u001b[0m\u001b[0;34m\u001b[0m\u001b[0m\n\u001b[0;32m-> 4138\u001b[0;31m                 \u001b[0mmapped\u001b[0m \u001b[0;34m=\u001b[0m \u001b[0mlib\u001b[0m\u001b[0;34m.\u001b[0m\u001b[0mmap_infer\u001b[0m\u001b[0;34m(\u001b[0m\u001b[0mvalues\u001b[0m\u001b[0;34m,\u001b[0m \u001b[0mf\u001b[0m\u001b[0;34m,\u001b[0m \u001b[0mconvert\u001b[0m\u001b[0;34m=\u001b[0m\u001b[0mconvert_dtype\u001b[0m\u001b[0;34m)\u001b[0m\u001b[0;34m\u001b[0m\u001b[0;34m\u001b[0m\u001b[0m\n\u001b[0m\u001b[1;32m   4139\u001b[0m \u001b[0;34m\u001b[0m\u001b[0m\n\u001b[1;32m   4140\u001b[0m         \u001b[0;32mif\u001b[0m \u001b[0mlen\u001b[0m\u001b[0;34m(\u001b[0m\u001b[0mmapped\u001b[0m\u001b[0;34m)\u001b[0m \u001b[0;32mand\u001b[0m \u001b[0misinstance\u001b[0m\u001b[0;34m(\u001b[0m\u001b[0mmapped\u001b[0m\u001b[0;34m[\u001b[0m\u001b[0;36m0\u001b[0m\u001b[0;34m]\u001b[0m\u001b[0;34m,\u001b[0m \u001b[0mSeries\u001b[0m\u001b[0;34m)\u001b[0m\u001b[0;34m:\u001b[0m\u001b[0;34m\u001b[0m\u001b[0;34m\u001b[0m\u001b[0m\n",
      "\u001b[0;32mpandas/_libs/lib.pyx\u001b[0m in \u001b[0;36mpandas._libs.lib.map_infer\u001b[0;34m()\u001b[0m\n",
      "\u001b[0;32m/tmp/ipykernel_6502/818288104.py\u001b[0m in \u001b[0;36m<lambda>\u001b[0;34m(x)\u001b[0m\n\u001b[1;32m      6\u001b[0m                 \u001b[0;34m.\u001b[0m\u001b[0mgroupby\u001b[0m\u001b[0;34m(\u001b[0m\u001b[0;34m'pav_order_id'\u001b[0m\u001b[0;34m)\u001b[0m\u001b[0;31m\\\u001b[0m\u001b[0;34m\u001b[0m\u001b[0;34m\u001b[0m\u001b[0m\n\u001b[1;32m      7\u001b[0m                 \u001b[0;34m.\u001b[0m\u001b[0magg\u001b[0m\u001b[0;34m(\u001b[0m\u001b[0mset\u001b[0m\u001b[0;34m)\u001b[0m\u001b[0;34m\u001b[0m\u001b[0;34m\u001b[0m\u001b[0m\n\u001b[0;32m----> 8\u001b[0;31m     \u001b[0mx\u001b[0m \u001b[0;34m=\u001b[0m \u001b[0mpairs\u001b[0m\u001b[0;34m[\u001b[0m\u001b[0;34m'item_id'\u001b[0m\u001b[0;34m]\u001b[0m\u001b[0;34m.\u001b[0m\u001b[0mapply\u001b[0m\u001b[0;34m(\u001b[0m\u001b[0;32mlambda\u001b[0m \u001b[0mx\u001b[0m\u001b[0;34m:\u001b[0m \u001b[0msample2\u001b[0m\u001b[0;34m(\u001b[0m\u001b[0mx\u001b[0m\u001b[0;34m,\u001b[0m \u001b[0mseed\u001b[0m\u001b[0;34m,\u001b[0m \u001b[0mn_smpl\u001b[0m\u001b[0;34m=\u001b[0m\u001b[0;36m5\u001b[0m\u001b[0;34m)\u001b[0m\u001b[0;34m)\u001b[0m\u001b[0;34m\u001b[0m\u001b[0;34m\u001b[0m\u001b[0m\n\u001b[0m\u001b[1;32m      9\u001b[0m     \u001b[0;32mreturn\u001b[0m \u001b[0mx\u001b[0m\u001b[0;34m\u001b[0m\u001b[0;34m\u001b[0m\u001b[0m\n\u001b[1;32m     10\u001b[0m \u001b[0;34m\u001b[0m\u001b[0m\n",
      "\u001b[0;32m/tmp/ipykernel_6502/1938386726.py\u001b[0m in \u001b[0;36msample2\u001b[0;34m(src, seed, n_smpl)\u001b[0m\n\u001b[1;32m      4\u001b[0m     \u001b[0mresult\u001b[0m \u001b[0;34m=\u001b[0m \u001b[0;34m[\u001b[0m\u001b[0;34m]\u001b[0m\u001b[0;34m\u001b[0m\u001b[0;34m\u001b[0m\u001b[0m\n\u001b[1;32m      5\u001b[0m     \u001b[0;32mfor\u001b[0m \u001b[0mi\u001b[0m \u001b[0;32min\u001b[0m \u001b[0mrange\u001b[0m\u001b[0;34m(\u001b[0m\u001b[0mn_smpl\u001b[0m\u001b[0;34m)\u001b[0m\u001b[0;34m:\u001b[0m\u001b[0;34m\u001b[0m\u001b[0;34m\u001b[0m\u001b[0m\n\u001b[0;32m----> 6\u001b[0;31m         \u001b[0mj\u001b[0m \u001b[0;34m=\u001b[0m \u001b[0mrandom\u001b[0m\u001b[0;34m.\u001b[0m\u001b[0mrandint\u001b[0m\u001b[0;34m(\u001b[0m\u001b[0;36m1\u001b[0m\u001b[0;34m,\u001b[0m \u001b[0mmax_size\u001b[0m\u001b[0;34m-\u001b[0m\u001b[0;36m1\u001b[0m\u001b[0;34m)\u001b[0m\u001b[0;34m\u001b[0m\u001b[0;34m\u001b[0m\u001b[0m\n\u001b[0m\u001b[1;32m      7\u001b[0m         \u001b[0mcontext\u001b[0m \u001b[0;34m=\u001b[0m \u001b[0mvals\u001b[0m\u001b[0;34m[\u001b[0m\u001b[0mj\u001b[0m\u001b[0;34m-\u001b[0m\u001b[0;36m1\u001b[0m\u001b[0;34m]\u001b[0m\u001b[0;34m\u001b[0m\u001b[0;34m\u001b[0m\u001b[0m\n\u001b[1;32m      8\u001b[0m         \u001b[0mtarget\u001b[0m \u001b[0;34m=\u001b[0m \u001b[0mvals\u001b[0m\u001b[0;34m[\u001b[0m\u001b[0mj\u001b[0m\u001b[0;34m]\u001b[0m\u001b[0;34m\u001b[0m\u001b[0;34m\u001b[0m\u001b[0m\n",
      "\u001b[0;31mNameError\u001b[0m: name 'random' is not defined"
     ]
    }
   ],
   "source": [
    "ngrams = prep_input(hist_data)"
   ]
  },
  {
   "cell_type": "code",
   "execution_count": null,
   "id": "144db1f3-cc62-4e8d-950e-c2649b2ab083",
   "metadata": {},
   "outputs": [],
   "source": [
    "ngrams = flatten([*ngrams.values])\n",
    "ngrams[1:10]"
   ]
  },
  {
   "cell_type": "code",
   "execution_count": 74,
   "id": "188a8f5f-6e32-4191-bde1-63389aed818a",
   "metadata": {},
   "outputs": [],
   "source": [
    "from torch import nn\n",
    "from torch.nn import functional as F\n",
    "\n",
    "class SkipgramModeler(nn.Module):\n",
    "\n",
    "    def __init__(self, vocab_size, embedding_dim, context_size):\n",
    "        super(SkipgramModeler, self).__init__()\n",
    "        self.embeddings = nn.Embedding(vocab_size, embedding_dim)\n",
    "        self.linear1 = nn.Linear(embedding_dim, 128)\n",
    "        self.linear2 = nn.Linear(128, context_size * vocab_size)\n",
    "        #self.parameters['context_size'] = context_size\n",
    "\n",
    "    def forward(self, inputs):\n",
    "        embeds = self.embeddings(inputs).view((1, -1))  # -1 implies size inferred for that index from the size of the data\n",
    "        #print(np.mean(np.mean(self.linear2.weight.data.numpy())))\n",
    "        out1 = F.relu(self.linear1(embeds)) # output of first layer\n",
    "        out2 = self.linear2(out1)           # output of second layer\n",
    "        #print(embeds)\n",
    "        log_probs = F.log_softmax(out2, dim=1).view(CONTEXT_SIZE,-1)\n",
    "        return log_probs\n",
    "\n",
    "    def predict(self,input):\n",
    "        context_idxs = torch.tensor([prod_to_ix[input]], dtype=torch.long)\n",
    "        res = self.forward(context_idxs)\n",
    "        res_arg = torch.argmax(res)\n",
    "        res_val, res_ind = res.sort(descending=True)\n",
    "        indices = [res_ind[i][0] for i in np.arange(0,3)]\n",
    "        return indices\n",
    "\n",
    "\n",
    "    def freeze_layer(self,layer):\n",
    "        for name,child in model.named_children():\n",
    "            print(name,child)\n",
    "            if(name == layer):\n",
    "                for names,params in child.named_parameters():\n",
    "                    print(names,params)\n",
    "                    print(params.size())\n",
    "                    params.requires_grad= False\n",
    "\n",
    "    def print_layer_parameters(self):\n",
    "        for name,child in model.named_children():\n",
    "                print(name,child)\n",
    "                for names,params in child.named_parameters():\n",
    "                    print(names,params)\n",
    "                    print(params.size())\n",
    "\n",
    "    def write_embedding_to_file(self,filename):\n",
    "        for i in self.embeddings.parameters():\n",
    "            weights = i.data.numpy()\n",
    "        np.save(filename,weights)\n"
   ]
  },
  {
   "cell_type": "code",
   "execution_count": 75,
   "id": "c66a2568-c8fb-42cf-8c38-64100e19f876",
   "metadata": {},
   "outputs": [],
   "source": []
  },
  {
   "cell_type": "code",
   "execution_count": 76,
   "id": "006f4b95-7062-44fc-9fbc-45df7762a62f",
   "metadata": {},
   "outputs": [
    {
     "data": {
      "text/plain": [
       "device(type='cuda')"
      ]
     },
     "execution_count": 76,
     "metadata": {},
     "output_type": "execute_result"
    }
   ],
   "source": [
    "device = torch.device('cuda' if torch.cuda.is_available() else 'cpu')\n",
    "device"
   ]
  },
  {
   "cell_type": "code",
   "execution_count": 77,
   "id": "37e00090-0e12-4bf7-a5fa-a3ca7a78d82c",
   "metadata": {},
   "outputs": [
    {
     "data": {
      "text/plain": [
       "SkipgramModeler(\n",
       "  (embeddings): Embedding(52472, 10)\n",
       "  (linear1): Linear(in_features=10, out_features=128, bias=True)\n",
       "  (linear2): Linear(in_features=128, out_features=157416, bias=True)\n",
       ")"
      ]
     },
     "execution_count": 77,
     "metadata": {},
     "output_type": "execute_result"
    }
   ],
   "source": [
    "model.to(device)"
   ]
  },
  {
   "cell_type": "code",
   "execution_count": 78,
   "id": "ef719cbf-19f0-47b6-ade0-1c11d5b68544",
   "metadata": {},
   "outputs": [],
   "source": [
    "#context_idxs"
   ]
  },
  {
   "cell_type": "code",
   "execution_count": 79,
   "id": "d77ce9b6-d702-45a9-afb3-e59c5364ef7e",
   "metadata": {},
   "outputs": [
    {
     "name": "stdout",
     "output_type": "stream",
     "text": [
      "0\n"
     ]
    },
    {
     "name": "stderr",
     "output_type": "stream",
     "text": [
      "/tmp/ipykernel_6309/818288104.py:4: SettingWithCopyWarning: \n",
      "A value is trying to be set on a copy of a slice from a DataFrame.\n",
      "Try using .loc[row_indexer,col_indexer] = value instead\n",
      "\n",
      "See the caveats in the documentation: https://pandas.pydata.org/pandas-docs/stable/user_guide/indexing.html#returning-a-view-versus-a-copy\n",
      "  X_train[\"ix\"] = X_train[\"item_id\"].map(prod_to_ix)\n"
     ]
    },
    {
     "name": "stdout",
     "output_type": "stream",
     "text": [
      "Loss:  59962.70633029938\n",
      "1\n",
      "Loss:  59742.66466999054\n",
      "2\n",
      "Loss:  59536.25030422211\n",
      "3\n",
      "Loss:  59329.45563411713\n",
      "4\n",
      "Loss:  59077.159668922424\n",
      "5\n"
     ]
    },
    {
     "ename": "KeyboardInterrupt",
     "evalue": "",
     "output_type": "error",
     "traceback": [
      "\u001b[0;31m---------------------------------------------------------------------------\u001b[0m",
      "\u001b[0;31mKeyboardInterrupt\u001b[0m                         Traceback (most recent call last)",
      "\u001b[0;32m/tmp/ipykernel_6309/592649288.py\u001b[0m in \u001b[0;36m<cell line: 3>\u001b[0;34m()\u001b[0m\n\u001b[1;32m     34\u001b[0m         \u001b[0;31m# Step 3. Run the forward pass, getting log probabilities over next\u001b[0m\u001b[0;34m\u001b[0m\u001b[0;34m\u001b[0m\u001b[0m\n\u001b[1;32m     35\u001b[0m         \u001b[0;31m# words\u001b[0m\u001b[0;34m\u001b[0m\u001b[0;34m\u001b[0m\u001b[0m\n\u001b[0;32m---> 36\u001b[0;31m         \u001b[0mlog_probs\u001b[0m \u001b[0;34m=\u001b[0m \u001b[0mmodel\u001b[0m\u001b[0;34m(\u001b[0m\u001b[0mcontext_idxs\u001b[0m\u001b[0;34m)\u001b[0m\u001b[0;34m\u001b[0m\u001b[0;34m\u001b[0m\u001b[0m\n\u001b[0m\u001b[1;32m     37\u001b[0m         \u001b[0;31m#print(log_probs)\u001b[0m\u001b[0;34m\u001b[0m\u001b[0;34m\u001b[0m\u001b[0m\n\u001b[1;32m     38\u001b[0m \u001b[0;34m\u001b[0m\u001b[0m\n",
      "\u001b[0;32m~/miniconda3/lib/python3.9/site-packages/torch/nn/modules/module.py\u001b[0m in \u001b[0;36m_call_impl\u001b[0;34m(self, *input, **kwargs)\u001b[0m\n\u001b[1;32m   1100\u001b[0m         if not (self._backward_hooks or self._forward_hooks or self._forward_pre_hooks or _global_backward_hooks\n\u001b[1;32m   1101\u001b[0m                 or _global_forward_hooks or _global_forward_pre_hooks):\n\u001b[0;32m-> 1102\u001b[0;31m             \u001b[0;32mreturn\u001b[0m \u001b[0mforward_call\u001b[0m\u001b[0;34m(\u001b[0m\u001b[0;34m*\u001b[0m\u001b[0minput\u001b[0m\u001b[0;34m,\u001b[0m \u001b[0;34m**\u001b[0m\u001b[0mkwargs\u001b[0m\u001b[0;34m)\u001b[0m\u001b[0;34m\u001b[0m\u001b[0;34m\u001b[0m\u001b[0m\n\u001b[0m\u001b[1;32m   1103\u001b[0m         \u001b[0;31m# Do not call functions when jit is used\u001b[0m\u001b[0;34m\u001b[0m\u001b[0;34m\u001b[0m\u001b[0m\n\u001b[1;32m   1104\u001b[0m         \u001b[0mfull_backward_hooks\u001b[0m\u001b[0;34m,\u001b[0m \u001b[0mnon_full_backward_hooks\u001b[0m \u001b[0;34m=\u001b[0m \u001b[0;34m[\u001b[0m\u001b[0;34m]\u001b[0m\u001b[0;34m,\u001b[0m \u001b[0;34m[\u001b[0m\u001b[0;34m]\u001b[0m\u001b[0;34m\u001b[0m\u001b[0;34m\u001b[0m\u001b[0m\n",
      "\u001b[0;32m/tmp/ipykernel_6309/42908770.py\u001b[0m in \u001b[0;36mforward\u001b[0;34m(self, inputs)\u001b[0m\n\u001b[1;32m     14\u001b[0m         \u001b[0membeds\u001b[0m \u001b[0;34m=\u001b[0m \u001b[0mself\u001b[0m\u001b[0;34m.\u001b[0m\u001b[0membeddings\u001b[0m\u001b[0;34m(\u001b[0m\u001b[0minputs\u001b[0m\u001b[0;34m)\u001b[0m\u001b[0;34m.\u001b[0m\u001b[0mview\u001b[0m\u001b[0;34m(\u001b[0m\u001b[0;34m(\u001b[0m\u001b[0;36m1\u001b[0m\u001b[0;34m,\u001b[0m \u001b[0;34m-\u001b[0m\u001b[0;36m1\u001b[0m\u001b[0;34m)\u001b[0m\u001b[0;34m)\u001b[0m  \u001b[0;31m# -1 implies size inferred for that index from the size of the data\u001b[0m\u001b[0;34m\u001b[0m\u001b[0;34m\u001b[0m\u001b[0m\n\u001b[1;32m     15\u001b[0m         \u001b[0;31m#print(np.mean(np.mean(self.linear2.weight.data.numpy())))\u001b[0m\u001b[0;34m\u001b[0m\u001b[0;34m\u001b[0m\u001b[0m\n\u001b[0;32m---> 16\u001b[0;31m         \u001b[0mout1\u001b[0m \u001b[0;34m=\u001b[0m \u001b[0mF\u001b[0m\u001b[0;34m.\u001b[0m\u001b[0mrelu\u001b[0m\u001b[0;34m(\u001b[0m\u001b[0mself\u001b[0m\u001b[0;34m.\u001b[0m\u001b[0mlinear1\u001b[0m\u001b[0;34m(\u001b[0m\u001b[0membeds\u001b[0m\u001b[0;34m)\u001b[0m\u001b[0;34m)\u001b[0m \u001b[0;31m# output of first layer\u001b[0m\u001b[0;34m\u001b[0m\u001b[0;34m\u001b[0m\u001b[0m\n\u001b[0m\u001b[1;32m     17\u001b[0m         \u001b[0mout2\u001b[0m \u001b[0;34m=\u001b[0m \u001b[0mself\u001b[0m\u001b[0;34m.\u001b[0m\u001b[0mlinear2\u001b[0m\u001b[0;34m(\u001b[0m\u001b[0mout1\u001b[0m\u001b[0;34m)\u001b[0m           \u001b[0;31m# output of second layer\u001b[0m\u001b[0;34m\u001b[0m\u001b[0;34m\u001b[0m\u001b[0m\n\u001b[1;32m     18\u001b[0m         \u001b[0;31m#print(embeds)\u001b[0m\u001b[0;34m\u001b[0m\u001b[0;34m\u001b[0m\u001b[0m\n",
      "\u001b[0;32m~/miniconda3/lib/python3.9/site-packages/torch/nn/modules/module.py\u001b[0m in \u001b[0;36m_call_impl\u001b[0;34m(self, *input, **kwargs)\u001b[0m\n\u001b[1;32m   1100\u001b[0m         if not (self._backward_hooks or self._forward_hooks or self._forward_pre_hooks or _global_backward_hooks\n\u001b[1;32m   1101\u001b[0m                 or _global_forward_hooks or _global_forward_pre_hooks):\n\u001b[0;32m-> 1102\u001b[0;31m             \u001b[0;32mreturn\u001b[0m \u001b[0mforward_call\u001b[0m\u001b[0;34m(\u001b[0m\u001b[0;34m*\u001b[0m\u001b[0minput\u001b[0m\u001b[0;34m,\u001b[0m \u001b[0;34m**\u001b[0m\u001b[0mkwargs\u001b[0m\u001b[0;34m)\u001b[0m\u001b[0;34m\u001b[0m\u001b[0;34m\u001b[0m\u001b[0m\n\u001b[0m\u001b[1;32m   1103\u001b[0m         \u001b[0;31m# Do not call functions when jit is used\u001b[0m\u001b[0;34m\u001b[0m\u001b[0;34m\u001b[0m\u001b[0m\n\u001b[1;32m   1104\u001b[0m         \u001b[0mfull_backward_hooks\u001b[0m\u001b[0;34m,\u001b[0m \u001b[0mnon_full_backward_hooks\u001b[0m \u001b[0;34m=\u001b[0m \u001b[0;34m[\u001b[0m\u001b[0;34m]\u001b[0m\u001b[0;34m,\u001b[0m \u001b[0;34m[\u001b[0m\u001b[0;34m]\u001b[0m\u001b[0;34m\u001b[0m\u001b[0;34m\u001b[0m\u001b[0m\n",
      "\u001b[0;32m~/miniconda3/lib/python3.9/site-packages/torch/nn/modules/linear.py\u001b[0m in \u001b[0;36mforward\u001b[0;34m(self, input)\u001b[0m\n\u001b[1;32m    101\u001b[0m \u001b[0;34m\u001b[0m\u001b[0m\n\u001b[1;32m    102\u001b[0m     \u001b[0;32mdef\u001b[0m \u001b[0mforward\u001b[0m\u001b[0;34m(\u001b[0m\u001b[0mself\u001b[0m\u001b[0;34m,\u001b[0m \u001b[0minput\u001b[0m\u001b[0;34m:\u001b[0m \u001b[0mTensor\u001b[0m\u001b[0;34m)\u001b[0m \u001b[0;34m->\u001b[0m \u001b[0mTensor\u001b[0m\u001b[0;34m:\u001b[0m\u001b[0;34m\u001b[0m\u001b[0;34m\u001b[0m\u001b[0m\n\u001b[0;32m--> 103\u001b[0;31m         \u001b[0;32mreturn\u001b[0m \u001b[0mF\u001b[0m\u001b[0;34m.\u001b[0m\u001b[0mlinear\u001b[0m\u001b[0;34m(\u001b[0m\u001b[0minput\u001b[0m\u001b[0;34m,\u001b[0m \u001b[0mself\u001b[0m\u001b[0;34m.\u001b[0m\u001b[0mweight\u001b[0m\u001b[0;34m,\u001b[0m \u001b[0mself\u001b[0m\u001b[0;34m.\u001b[0m\u001b[0mbias\u001b[0m\u001b[0;34m)\u001b[0m\u001b[0;34m\u001b[0m\u001b[0;34m\u001b[0m\u001b[0m\n\u001b[0m\u001b[1;32m    104\u001b[0m \u001b[0;34m\u001b[0m\u001b[0m\n\u001b[1;32m    105\u001b[0m     \u001b[0;32mdef\u001b[0m \u001b[0mextra_repr\u001b[0m\u001b[0;34m(\u001b[0m\u001b[0mself\u001b[0m\u001b[0;34m)\u001b[0m \u001b[0;34m->\u001b[0m \u001b[0mstr\u001b[0m\u001b[0;34m:\u001b[0m\u001b[0;34m\u001b[0m\u001b[0;34m\u001b[0m\u001b[0m\n",
      "\u001b[0;32m~/miniconda3/lib/python3.9/site-packages/torch/nn/functional.py\u001b[0m in \u001b[0;36mlinear\u001b[0;34m(input, weight, bias)\u001b[0m\n\u001b[1;32m   1846\u001b[0m     \u001b[0;32mif\u001b[0m \u001b[0mhas_torch_function_variadic\u001b[0m\u001b[0;34m(\u001b[0m\u001b[0minput\u001b[0m\u001b[0;34m,\u001b[0m \u001b[0mweight\u001b[0m\u001b[0;34m,\u001b[0m \u001b[0mbias\u001b[0m\u001b[0;34m)\u001b[0m\u001b[0;34m:\u001b[0m\u001b[0;34m\u001b[0m\u001b[0;34m\u001b[0m\u001b[0m\n\u001b[1;32m   1847\u001b[0m         \u001b[0;32mreturn\u001b[0m \u001b[0mhandle_torch_function\u001b[0m\u001b[0;34m(\u001b[0m\u001b[0mlinear\u001b[0m\u001b[0;34m,\u001b[0m \u001b[0;34m(\u001b[0m\u001b[0minput\u001b[0m\u001b[0;34m,\u001b[0m \u001b[0mweight\u001b[0m\u001b[0;34m,\u001b[0m \u001b[0mbias\u001b[0m\u001b[0;34m)\u001b[0m\u001b[0;34m,\u001b[0m \u001b[0minput\u001b[0m\u001b[0;34m,\u001b[0m \u001b[0mweight\u001b[0m\u001b[0;34m,\u001b[0m \u001b[0mbias\u001b[0m\u001b[0;34m=\u001b[0m\u001b[0mbias\u001b[0m\u001b[0;34m)\u001b[0m\u001b[0;34m\u001b[0m\u001b[0;34m\u001b[0m\u001b[0m\n\u001b[0;32m-> 1848\u001b[0;31m     \u001b[0;32mreturn\u001b[0m \u001b[0mtorch\u001b[0m\u001b[0;34m.\u001b[0m\u001b[0m_C\u001b[0m\u001b[0;34m.\u001b[0m\u001b[0m_nn\u001b[0m\u001b[0;34m.\u001b[0m\u001b[0mlinear\u001b[0m\u001b[0;34m(\u001b[0m\u001b[0minput\u001b[0m\u001b[0;34m,\u001b[0m \u001b[0mweight\u001b[0m\u001b[0;34m,\u001b[0m \u001b[0mbias\u001b[0m\u001b[0;34m)\u001b[0m\u001b[0;34m\u001b[0m\u001b[0;34m\u001b[0m\u001b[0m\n\u001b[0m\u001b[1;32m   1849\u001b[0m \u001b[0;34m\u001b[0m\u001b[0m\n\u001b[1;32m   1850\u001b[0m \u001b[0;34m\u001b[0m\u001b[0m\n",
      "\u001b[0;31mKeyboardInterrupt\u001b[0m: "
     ]
    }
   ],
   "source": [
    "losses = []\n",
    "\n",
    "for epoch in range(50):\n",
    "    total_loss = 0\n",
    "    #------- Embedding layers are trained as well here ----#\n",
    "    #lookup_tensor = torch.tensor([word_to_ix[\"poor\"]], dtype=torch.long)\n",
    "    #hello_embed = model.embeddings(lookup_tensor)\n",
    "    #print(hello_embed)\n",
    "    # -----------------------------------------------------#\n",
    "\n",
    "    model.predict(203401622)\n",
    "    print(\"Epoch: \", epoch)\n",
    "    \n",
    "    carts = hist_data.pav_order_id.drop_duplicates().sample(1000).values\n",
    "    q = hist_data.pav_order_id.isin(carts)\n",
    "    ngrams = flatten([*prep_input(hist_data[q]).values])\n",
    "    \n",
    "    for target, context  in ngrams:\n",
    "\n",
    "        # Step 1. Prepare the inputs to be passed to the model (i.e, turn the words\n",
    "        # into integer indices and wrap them in tensors)\n",
    "        #print(context,target)\n",
    "\n",
    "\n",
    "        context_idxs = torch.tensor([prod_to_ix[context]], dtype=torch.long)\n",
    "        context_idxs.to(device)\n",
    "        #print(\"Context id\",context_idxs)\n",
    "\n",
    "        # Step 2. Recall that torch *accumulates* gradients. Before passing in a\n",
    "        # new instance, you need to zero out the gradients from the old\n",
    "        # instance\n",
    "        model.zero_grad()\n",
    "\n",
    "        # Step 3. Run the forward pass, getting log probabilities over next\n",
    "        # words\n",
    "        log_probs = model(context_idxs)\n",
    "        #print(log_probs)\n",
    "\n",
    "        # Step 4. Compute your loss function. (Again, Torch wants the target\n",
    "        # word wrapped in a tensor)\n",
    "        target_list = torch.tensor([prod_to_ix[target], prod_to_ix[target], prod_to_ix[target]], dtype=torch.long)\n",
    "        loss = loss_function(log_probs, target_list)\n",
    "        #print(loss)\n",
    "\n",
    "        # Step 5. Do the backward pass and update the gradient\n",
    "        loss.backward()\n",
    "        optimizer.step()\n",
    "\n",
    "        # Get the Python number from a 1-element Tensor by calling tensor.item()\n",
    "        total_loss += loss.item()\n",
    "    print(\"Loss: \", total_loss)\n",
    "    losses.append(total_loss)"
   ]
  },
  {
   "cell_type": "code",
   "execution_count": null,
   "id": "9360d837-608f-43f3-8d80-a2585d028cc1",
   "metadata": {},
   "outputs": [],
   "source": []
  },
  {
   "cell_type": "code",
   "execution_count": 81,
   "id": "28934045-2dd6-4059-a758-5119a73b5478",
   "metadata": {},
   "outputs": [
    {
     "data": {
      "text/plain": [
       "[tensor(1913), tensor(364), tensor(127)]"
      ]
     },
     "execution_count": 81,
     "metadata": {},
     "output_type": "execute_result"
    }
   ],
   "source": [
    "model.predict(204079534)"
   ]
  },
  {
   "cell_type": "code",
   "execution_count": null,
   "id": "1bcbfc71-371c-42ee-a1af-f6bfedcc6fb6",
   "metadata": {},
   "outputs": [],
   "source": [
    "test_data.pav_order_id'"
   ]
  },
  {
   "cell_type": "code",
   "execution_count": null,
   "id": "98d73455-5426-461a-ba52-91db24f1cf9f",
   "metadata": {},
   "outputs": [],
   "source": []
  },
  {
   "cell_type": "code",
   "execution_count": null,
   "id": "100a0fc3-8ad8-408b-9475-cd405a551bfd",
   "metadata": {},
   "outputs": [],
   "source": []
  },
  {
   "cell_type": "code",
   "execution_count": null,
   "id": "2cbe7c27-cbf3-49ec-b16e-8e959126c60e",
   "metadata": {},
   "outputs": [],
   "source": []
  },
  {
   "cell_type": "code",
   "execution_count": null,
   "id": "f4ca07bd-88e3-4595-8df7-6efcd0e5f657",
   "metadata": {},
   "outputs": [],
   "source": []
  },
  {
   "cell_type": "code",
   "execution_count": null,
   "id": "3632ebdc-2bc7-480d-8673-1cb670da0b9e",
   "metadata": {},
   "outputs": [],
   "source": []
  },
  {
   "cell_type": "code",
   "execution_count": null,
   "id": "bb04de74-c46e-49fc-9ca9-c9a9491929cb",
   "metadata": {},
   "outputs": [],
   "source": []
  },
  {
   "cell_type": "code",
   "execution_count": null,
   "id": "5a12d41c-2779-44ec-8324-979cf3599166",
   "metadata": {},
   "outputs": [],
   "source": []
  },
  {
   "cell_type": "code",
   "execution_count": 80,
   "id": "6bb4f5de-9213-4152-aa37-e8f98f63d5c0",
   "metadata": {},
   "outputs": [
    {
     "data": {
      "text/plain": [
       "(4529889, 8)"
      ]
     },
     "execution_count": 80,
     "metadata": {},
     "output_type": "execute_result"
    }
   ],
   "source": [
    "hist_data.shape"
   ]
  },
  {
   "cell_type": "markdown",
   "id": "96552400-df96-4853-b555-9eb8a841c37f",
   "metadata": {},
   "source": [
    "### Prepare Submission File"
   ]
  },
  {
   "cell_type": "code",
   "execution_count": 100,
   "id": "0da32cdf-5bfc-450e-b0e9-a5d7065c2692",
   "metadata": {},
   "outputs": [],
   "source": [
    "from models.hmodel import HModel\n",
    "\n",
    "model = HModel(top_n = 5, seed = 32)\n",
    "model.train(hist_data)"
   ]
  },
  {
   "cell_type": "code",
   "execution_count": 101,
   "id": "03880914-1641-4826-bf76-50da8071e1b7",
   "metadata": {},
   "outputs": [
    {
     "data": {
      "text/plain": [
       "tensor([[0.0000, 0.0000, 0.7368,  ..., 0.0000, 0.0000, 0.0000],\n",
       "        [0.0000, 0.0000, 0.0000,  ..., 0.0000, 0.0000, 0.0000],\n",
       "        [0.0000, 0.0000, 0.0000,  ..., 0.0000, 0.0000, 0.0000],\n",
       "        ...,\n",
       "        [0.0000, 0.0000, 0.0000,  ..., 0.0000, 0.0000, 0.0000],\n",
       "        [0.0000, 1.0000, 0.0000,  ..., 0.0000, 0.0000, 0.0000],\n",
       "        [0.0000, 0.0000, 0.0000,  ..., 0.0000, 0.0000, 0.0000]])"
      ]
     },
     "execution_count": 101,
     "metadata": {},
     "output_type": "execute_result"
    }
   ],
   "source": [
    "model.shash"
   ]
  },
  {
   "cell_type": "code",
   "execution_count": null,
   "id": "67f7d951-d769-4c0b-a692-f5e4adab2380",
   "metadata": {},
   "outputs": [],
   "source": []
  },
  {
   "cell_type": "code",
   "execution_count": 109,
   "id": "a3dd054d-8c94-442f-a6e3-77865349a609",
   "metadata": {},
   "outputs": [
    {
     "ename": "KeyboardInterrupt",
     "evalue": "",
     "output_type": "error",
     "traceback": [
      "\u001b[0;31m---------------------------------------------------------------------------\u001b[0m",
      "\u001b[0;31mKeyboardInterrupt\u001b[0m                         Traceback (most recent call last)",
      "\u001b[0;32m/tmp/ipykernel_197/4092390223.py\u001b[0m in \u001b[0;36m<cell line: 1>\u001b[0;34m()\u001b[0m\n\u001b[0;32m----> 1\u001b[0;31m \u001b[0mz\u001b[0m \u001b[0;34m=\u001b[0m \u001b[0mmodel\u001b[0m\u001b[0;34m.\u001b[0m\u001b[0mpredict\u001b[0m\u001b[0;34m(\u001b[0m\u001b[0mtest_data\u001b[0m\u001b[0;34m)\u001b[0m\u001b[0;34m\u001b[0m\u001b[0;34m\u001b[0m\u001b[0m\n\u001b[0m",
      "\u001b[0;32m/shared/notebooks/htc/notebooks/models/hmodel.py\u001b[0m in \u001b[0;36mpredict\u001b[0;34m(self, X_test)\u001b[0m\n\u001b[1;32m     90\u001b[0m \u001b[0;34m\u001b[0m\u001b[0m\n\u001b[1;32m     91\u001b[0m \u001b[0;34m\u001b[0m\u001b[0m\n\u001b[0;32m---> 92\u001b[0;31m         preds = preds['basket'].map(\n\u001b[0m\u001b[1;32m     93\u001b[0m             lambda basket: mp(basket))\n\u001b[1;32m     94\u001b[0m         \u001b[0;32mreturn\u001b[0m \u001b[0mpreds\u001b[0m\u001b[0;34m\u001b[0m\u001b[0;34m\u001b[0m\u001b[0m\n",
      "\u001b[0;32m~/miniconda3/lib/python3.9/site-packages/pandas/core/series.py\u001b[0m in \u001b[0;36mmap\u001b[0;34m(self, arg, na_action)\u001b[0m\n\u001b[1;32m   3907\u001b[0m         \u001b[0mdtype\u001b[0m\u001b[0;34m:\u001b[0m \u001b[0mobject\u001b[0m\u001b[0;34m\u001b[0m\u001b[0;34m\u001b[0m\u001b[0m\n\u001b[1;32m   3908\u001b[0m         \"\"\"\n\u001b[0;32m-> 3909\u001b[0;31m         \u001b[0mnew_values\u001b[0m \u001b[0;34m=\u001b[0m \u001b[0msuper\u001b[0m\u001b[0;34m(\u001b[0m\u001b[0;34m)\u001b[0m\u001b[0;34m.\u001b[0m\u001b[0m_map_values\u001b[0m\u001b[0;34m(\u001b[0m\u001b[0marg\u001b[0m\u001b[0;34m,\u001b[0m \u001b[0mna_action\u001b[0m\u001b[0;34m=\u001b[0m\u001b[0mna_action\u001b[0m\u001b[0;34m)\u001b[0m\u001b[0;34m\u001b[0m\u001b[0;34m\u001b[0m\u001b[0m\n\u001b[0m\u001b[1;32m   3910\u001b[0m         return self._constructor(new_values, index=self.index).__finalize__(\n\u001b[1;32m   3911\u001b[0m             \u001b[0mself\u001b[0m\u001b[0;34m,\u001b[0m \u001b[0mmethod\u001b[0m\u001b[0;34m=\u001b[0m\u001b[0;34m\"map\"\u001b[0m\u001b[0;34m\u001b[0m\u001b[0;34m\u001b[0m\u001b[0m\n",
      "\u001b[0;32m~/miniconda3/lib/python3.9/site-packages/pandas/core/base.py\u001b[0m in \u001b[0;36m_map_values\u001b[0;34m(self, mapper, na_action)\u001b[0m\n\u001b[1;32m    935\u001b[0m \u001b[0;34m\u001b[0m\u001b[0m\n\u001b[1;32m    936\u001b[0m         \u001b[0;31m# mapper is a function\u001b[0m\u001b[0;34m\u001b[0m\u001b[0;34m\u001b[0m\u001b[0m\n\u001b[0;32m--> 937\u001b[0;31m         \u001b[0mnew_values\u001b[0m \u001b[0;34m=\u001b[0m \u001b[0mmap_f\u001b[0m\u001b[0;34m(\u001b[0m\u001b[0mvalues\u001b[0m\u001b[0;34m,\u001b[0m \u001b[0mmapper\u001b[0m\u001b[0;34m)\u001b[0m\u001b[0;34m\u001b[0m\u001b[0;34m\u001b[0m\u001b[0m\n\u001b[0m\u001b[1;32m    938\u001b[0m \u001b[0;34m\u001b[0m\u001b[0m\n\u001b[1;32m    939\u001b[0m         \u001b[0;32mreturn\u001b[0m \u001b[0mnew_values\u001b[0m\u001b[0;34m\u001b[0m\u001b[0;34m\u001b[0m\u001b[0m\n",
      "\u001b[0;32mpandas/_libs/lib.pyx\u001b[0m in \u001b[0;36mpandas._libs.lib.map_infer\u001b[0;34m()\u001b[0m\n",
      "\u001b[0;32m/shared/notebooks/htc/notebooks/models/hmodel.py\u001b[0m in \u001b[0;36m<lambda>\u001b[0;34m(basket)\u001b[0m\n\u001b[1;32m     91\u001b[0m \u001b[0;34m\u001b[0m\u001b[0m\n\u001b[1;32m     92\u001b[0m         preds = preds['basket'].map(\n\u001b[0;32m---> 93\u001b[0;31m             lambda basket: mp(basket))\n\u001b[0m\u001b[1;32m     94\u001b[0m         \u001b[0;32mreturn\u001b[0m \u001b[0mpreds\u001b[0m\u001b[0;34m\u001b[0m\u001b[0;34m\u001b[0m\u001b[0m\n\u001b[1;32m     95\u001b[0m \u001b[0;34m\u001b[0m\u001b[0m\n",
      "\u001b[0;32m/shared/notebooks/htc/notebooks/models/hmodel.py\u001b[0m in \u001b[0;36mmp\u001b[0;34m(basket)\u001b[0m\n\u001b[1;32m     84\u001b[0m             \u001b[0;32mfor\u001b[0m \u001b[0mitem\u001b[0m \u001b[0;32min\u001b[0m \u001b[0mbasket\u001b[0m\u001b[0;34m:\u001b[0m\u001b[0;34m\u001b[0m\u001b[0;34m\u001b[0m\u001b[0m\n\u001b[1;32m     85\u001b[0m                 \u001b[0mx\u001b[0m \u001b[0;34m=\u001b[0m \u001b[0mdic\u001b[0m\u001b[0;34m[\u001b[0m\u001b[0mitem\u001b[0m\u001b[0;34m]\u001b[0m\u001b[0;34m\u001b[0m\u001b[0;34m\u001b[0m\u001b[0m\n\u001b[0;32m---> 86\u001b[0;31m                 \u001b[0mv\u001b[0m \u001b[0;34m=\u001b[0m \u001b[0mself\u001b[0m\u001b[0;34m.\u001b[0m\u001b[0midx\u001b[0m\u001b[0;34m(\u001b[0m\u001b[0mx\u001b[0m\u001b[0;34m)\u001b[0m\u001b[0;34m\u001b[0m\u001b[0;34m\u001b[0m\u001b[0m\n\u001b[0m\u001b[1;32m     87\u001b[0m                 \u001b[0mvv\u001b[0m \u001b[0;34m+=\u001b[0m \u001b[0;34m[\u001b[0m\u001b[0mv\u001b[0m\u001b[0;34m]\u001b[0m\u001b[0;34m\u001b[0m\u001b[0;34m\u001b[0m\u001b[0m\n\u001b[1;32m     88\u001b[0m             \u001b[0mcnt\u001b[0m\u001b[0;34m.\u001b[0m\u001b[0mupdate\u001b[0m\u001b[0;34m(\u001b[0m\u001b[0mvv\u001b[0m\u001b[0;34m)\u001b[0m\u001b[0;34m\u001b[0m\u001b[0;34m\u001b[0m\u001b[0m\n",
      "\u001b[0;32m/shared/notebooks/htc/notebooks/models/hmodel.py\u001b[0m in \u001b[0;36midx\u001b[0;34m(self, x)\u001b[0m\n\u001b[1;32m     56\u001b[0m         \u001b[0mX0\u001b[0m \u001b[0;34m=\u001b[0m \u001b[0mself\u001b[0m\u001b[0;34m.\u001b[0m\u001b[0mshash\u001b[0m\u001b[0;34m\u001b[0m\u001b[0;34m\u001b[0m\u001b[0m\n\u001b[1;32m     57\u001b[0m         idx = torch.argmin(\n\u001b[0;32m---> 58\u001b[0;31m             torch.sum(\n\u001b[0m\u001b[1;32m     59\u001b[0m                 torch.abs(X0 - x.reshape(1,-1)), axis=1), axis=0)\n\u001b[1;32m     60\u001b[0m         \u001b[0;32mreturn\u001b[0m \u001b[0mself\u001b[0m\u001b[0;34m.\u001b[0m\u001b[0msdict\u001b[0m\u001b[0;34m[\u001b[0m\u001b[0midx\u001b[0m\u001b[0;34m]\u001b[0m\u001b[0;34m\u001b[0m\u001b[0;34m\u001b[0m\u001b[0m\n",
      "\u001b[0;31mKeyboardInterrupt\u001b[0m: "
     ]
    }
   ],
   "source": [
    "z = model.predict(test_data)"
   ]
  },
  {
   "cell_type": "code",
   "execution_count": null,
   "id": "7285251e-bf85-4500-ad74-b93b0fc9ca27",
   "metadata": {},
   "outputs": [],
   "source": [
    "z"
   ]
  },
  {
   "cell_type": "code",
   "execution_count": 108,
   "id": "03215116-cd3f-448b-b31d-a2422c210cff",
   "metadata": {},
   "outputs": [
    {
     "data": {
      "text/plain": [
       "Counter({1: 1})"
      ]
     },
     "execution_count": 108,
     "metadata": {},
     "output_type": "execute_result"
    }
   ],
   "source": [
    "from collections import Counter\n",
    "\n",
    "c = Counter()\n",
    "c.update([1])\n",
    "c"
   ]
  },
  {
   "cell_type": "code",
   "execution_count": 32,
   "id": "573fc047-fe4a-48e4-9d4c-de387cc6feab",
   "metadata": {},
   "outputs": [
    {
     "data": {
      "text/plain": [
       "item_id\n",
       "202782406    [(20, 95), (13, 78), (4, 74), (26, 73), (2, 70)]\n",
       "202782407        [(20, 2), (16, 2), (15, 1), (5, 1), (10, 1)]\n",
       "202782412        [(7, 6), (13, 4), (20, 4), (21, 3), (17, 2)]\n",
       "202782414       [(13, 10), (24, 9), (28, 9), (11, 9), (9, 9)]\n",
       "202782415     [(2, 21), (31, 21), (6, 20), (7, 18), (17, 18)]\n",
       "                                   ...                       \n",
       "218175579          [(19, 3), (8, 2), (9, 2), (20, 1), (2, 1)]\n",
       "218199321        [(13, 4), (17, 3), (10, 3), (7, 2), (11, 2)]\n",
       "218217955        [(14, 4), (27, 3), (11, 2), (23, 2), (4, 2)]\n",
       "218217991          [(14, 2), (1, 2), (4, 1), (28, 1), (6, 1)]\n",
       "218240709         [(28, 2), (3, 2), (19, 2), (7, 2), (17, 1)]\n",
       "Name: sid_left, Length: 52472, dtype: object"
      ]
     },
     "execution_count": 32,
     "metadata": {},
     "output_type": "execute_result"
    }
   ],
   "source": [
    "model.shash"
   ]
  },
  {
   "cell_type": "code",
   "execution_count": 34,
   "id": "0a68bcd0-79c2-4017-b899-83b4ed858417",
   "metadata": {},
   "outputs": [],
   "source": [
    "norm = torch.zeros(32)\n",
    "for s, v in model.norm.iteritems():\n",
    "    norm[s] = v"
   ]
  },
  {
   "cell_type": "code",
   "execution_count": 35,
   "id": "bfc8cfd6-e15c-4543-9c0f-729b66f78a59",
   "metadata": {},
   "outputs": [
    {
     "data": {
      "text/plain": [
       "tensor([166497., 161872., 137723., 141669., 160600., 131611., 120247., 154120.,\n",
       "        145422., 114079., 120855., 130205., 122878., 204036.,  86697., 137561.,\n",
       "        135003., 152091., 101188., 147692., 224414., 148674., 136301., 121300.,\n",
       "        147632., 145180., 127464., 137618., 166937., 120814., 127741., 153768.])"
      ]
     },
     "execution_count": 35,
     "metadata": {},
     "output_type": "execute_result"
    }
   ],
   "source": [
    "norm\n",
    "\n",
    "\n"
   ]
  },
  {
   "cell_type": "code",
   "execution_count": 50,
   "id": "fd0e6838-c888-4d6b-8fbe-4e7a607f1a48",
   "metadata": {},
   "outputs": [
    {
     "ename": "IndexError",
     "evalue": "Dimension out of range (expected to be in range of [-1, 0], but got 1)",
     "output_type": "error",
     "traceback": [
      "\u001b[0;31m---------------------------------------------------------------------------\u001b[0m",
      "\u001b[0;31mIndexError\u001b[0m                                Traceback (most recent call last)",
      "\u001b[0;32m/tmp/ipykernel_197/3847106408.py\u001b[0m in \u001b[0;36m<cell line: 19>\u001b[0;34m()\u001b[0m\n\u001b[1;32m     17\u001b[0m     \u001b[0;32mreturn\u001b[0m \u001b[0md\u001b[0m\u001b[0;34m\u001b[0m\u001b[0;34m\u001b[0m\u001b[0m\n\u001b[1;32m     18\u001b[0m \u001b[0;34m\u001b[0m\u001b[0m\n\u001b[0;32m---> 19\u001b[0;31m \u001b[0mdist\u001b[0m\u001b[0;34m(\u001b[0m\u001b[0mX\u001b[0m\u001b[0;34m,\u001b[0m \u001b[0mX\u001b[0m\u001b[0;34m[\u001b[0m\u001b[0;36m0\u001b[0m\u001b[0;34m,\u001b[0m \u001b[0;34m:\u001b[0m\u001b[0;34m]\u001b[0m\u001b[0;34m)\u001b[0m\u001b[0;34m\u001b[0m\u001b[0;34m\u001b[0m\u001b[0m\n\u001b[0m",
      "\u001b[0;32m/tmp/ipykernel_197/3847106408.py\u001b[0m in \u001b[0;36mdist\u001b[0;34m(X0, x)\u001b[0m\n\u001b[1;32m     14\u001b[0m \u001b[0;34m\u001b[0m\u001b[0m\n\u001b[1;32m     15\u001b[0m \u001b[0;32mdef\u001b[0m \u001b[0mdist\u001b[0m\u001b[0;34m(\u001b[0m\u001b[0mX0\u001b[0m\u001b[0;34m,\u001b[0m \u001b[0mx\u001b[0m\u001b[0;34m)\u001b[0m\u001b[0;34m:\u001b[0m\u001b[0;34m\u001b[0m\u001b[0;34m\u001b[0m\u001b[0m\n\u001b[0;32m---> 16\u001b[0;31m     \u001b[0md\u001b[0m \u001b[0;34m=\u001b[0m \u001b[0mtorch\u001b[0m\u001b[0;34m.\u001b[0m\u001b[0margmin\u001b[0m\u001b[0;34m(\u001b[0m\u001b[0msum\u001b[0m\u001b[0;34m(\u001b[0m\u001b[0mabs\u001b[0m\u001b[0;34m(\u001b[0m\u001b[0mX0\u001b[0m \u001b[0;34m-\u001b[0m \u001b[0mx\u001b[0m\u001b[0;34m)\u001b[0m\u001b[0;34m)\u001b[0m\u001b[0;34m,\u001b[0m \u001b[0maxis\u001b[0m\u001b[0;34m=\u001b[0m\u001b[0;36m1\u001b[0m\u001b[0;34m)\u001b[0m\u001b[0;34m\u001b[0m\u001b[0;34m\u001b[0m\u001b[0m\n\u001b[0m\u001b[1;32m     17\u001b[0m     \u001b[0;32mreturn\u001b[0m \u001b[0md\u001b[0m\u001b[0;34m\u001b[0m\u001b[0;34m\u001b[0m\u001b[0m\n\u001b[1;32m     18\u001b[0m \u001b[0;34m\u001b[0m\u001b[0m\n",
      "\u001b[0;31mIndexError\u001b[0m: Dimension out of range (expected to be in range of [-1, 0], but got 1)"
     ]
    }
   ],
   "source": [
    "import torch\n",
    "\n",
    "def to_vec(x, seed=32):\n",
    "    vec = torch.zeros(seed)\n",
    "    for c,w in x:\n",
    "        vec[c] = w\n",
    "    return vec.reshape(1, -1)\n",
    "\n",
    "t = model.shash.apply(to_vec)\n",
    "X = torch.cat([*t.values], axis=0)\n",
    "X_norm = X.max(axis=1)\n",
    "\n",
    "X = X / X_norm.values.reshape(-1,1)\n",
    "\n",
    "def idx(X0, x):\n",
    "    idx = torch.argmin(\n",
    "        torch.sum(\n",
    "            torch.abs(X - X[0, :].reshape(1,-1)), axis=1), axis=0)\n",
    "    return idx\n",
    "\n",
    "dist(X, X[0, :])"
   ]
  },
  {
   "cell_type": "code",
   "execution_count": 68,
   "id": "755c9164-fb00-48ff-b14e-f7d4714f33c4",
   "metadata": {},
   "outputs": [
    {
     "data": {
      "text/plain": [
       "tensor(0)"
      ]
     },
     "execution_count": 68,
     "metadata": {},
     "output_type": "execute_result"
    }
   ],
   "source": []
  },
  {
   "cell_type": "code",
   "execution_count": 69,
   "id": "9a253b36-580c-49c9-8d36-cc1bcada37b0",
   "metadata": {},
   "outputs": [
    {
     "data": {
      "text/plain": [
       "tensor([[ 0.0000,  0.0000,  0.0000,  ...,  0.0000,  0.0000,  0.0000],\n",
       "        [ 0.0000,  0.0000, -0.7368,  ...,  0.0000,  0.0000,  0.0000],\n",
       "        [ 0.0000,  0.0000, -0.7368,  ...,  0.0000,  0.0000,  0.0000],\n",
       "        ...,\n",
       "        [ 0.0000,  0.0000, -0.7368,  ...,  0.0000,  0.0000,  0.0000],\n",
       "        [ 0.0000,  1.0000, -0.7368,  ...,  0.0000,  0.0000,  0.0000],\n",
       "        [ 0.0000,  0.0000, -0.7368,  ...,  0.0000,  0.0000,  0.0000]])"
      ]
     },
     "execution_count": 69,
     "metadata": {},
     "output_type": "execute_result"
    }
   ],
   "source": [
    "X - X[0, :].reshape(1,-1)"
   ]
  },
  {
   "cell_type": "code",
   "execution_count": 63,
   "id": "1c69488c-440f-41bf-a6b1-3a89a6acc10b",
   "metadata": {},
   "outputs": [
    {
     "data": {
      "text/plain": [
       "tensor([0.0000, 0.0000, 0.7368, 0.0000, 0.7789, 0.0000, 0.0000, 0.0000, 0.0000,\n",
       "        0.0000, 0.0000, 0.0000, 0.0000, 0.8211, 0.0000, 0.0000, 0.0000, 0.0000,\n",
       "        0.0000, 0.0000, 1.0000, 0.0000, 0.0000, 0.0000, 0.0000, 0.0000, 0.7684,\n",
       "        0.0000, 0.0000, 0.0000, 0.0000, 0.0000])"
      ]
     },
     "execution_count": 63,
     "metadata": {},
     "output_type": "execute_result"
    }
   ],
   "source": [
    "X[0,:]"
   ]
  },
  {
   "cell_type": "code",
   "execution_count": 64,
   "id": "0403f9a6-e301-44db-879b-041782cb27fc",
   "metadata": {},
   "outputs": [
    {
     "data": {
      "text/plain": [
       "tensor([0.0000, 0.0000, 0.0000, 0.8333, 0.0000, 0.0000, 0.0000, 0.0000, 0.0000,\n",
       "        0.0000, 0.0000, 0.0000, 0.0000, 0.0000, 0.0000, 0.0000, 0.0000, 0.0000,\n",
       "        0.0000, 0.6667, 0.8333, 0.0000, 0.0000, 0.0000, 0.0000, 1.0000, 1.0000,\n",
       "        0.0000, 0.0000, 0.0000, 0.0000, 0.0000])"
      ]
     },
     "execution_count": 64,
     "metadata": {},
     "output_type": "execute_result"
    }
   ],
   "source": [
    "X[14,:]"
   ]
  },
  {
   "cell_type": "code",
   "execution_count": 59,
   "id": "fc0c2dbf-2de1-4c6c-ad61-092035b9ec31",
   "metadata": {},
   "outputs": [
    {
     "data": {
      "text/plain": [
       "tensor([0.0000, 0.0000, 0.7368, 0.0000, 0.7789, 0.0000, 0.0000, 0.0000, 0.0000,\n",
       "        0.0000, 0.0000, 0.0000, 0.0000, 0.8211, 0.0000, 0.0000, 0.0000, 0.0000,\n",
       "        0.0000, 0.0000, 1.0000, 0.0000, 0.0000, 0.0000, 0.0000, 0.0000, 0.7684,\n",
       "        0.0000, 0.0000, 0.0000, 0.0000, 0.0000])"
      ]
     },
     "execution_count": 59,
     "metadata": {},
     "output_type": "execute_result"
    }
   ],
   "source": [
    "x = X[0, :]\n",
    "x"
   ]
  },
  {
   "cell_type": "code",
   "execution_count": 37,
   "id": "b24008be-8527-42b6-ba01-141aaeab01bc",
   "metadata": {},
   "outputs": [
    {
     "data": {
      "text/plain": [
       "tensor([51059., 48803., 15659.,  9159., 49218.,  2623.,  4295., 15044., 11521.,\n",
       "         1882.,  1734.,  3158.,  9008., 65631.,  2058.,  1801.,  2702.,  9947.,\n",
       "          789.,  5894., 47312., 31467.,  2300.,  2912., 10992.,  3272.,  2299.,\n",
       "         3754., 53616.,  1736.,  2220.,  7640.])"
      ]
     },
     "execution_count": 37,
     "metadata": {},
     "output_type": "execute_result"
    }
   ],
   "source": [
    "X_norm.values"
   ]
  },
  {
   "cell_type": "code",
   "execution_count": 14,
   "id": "52284dcb-8feb-42ca-9a13-31c0283779db",
   "metadata": {},
   "outputs": [
    {
     "data": {
      "text/plain": [
       "tensor([ 0.,  0., 70.,  0., 74.,  0.,  0.,  0.,  0.,  0.,  0.,  0.,  0., 78.,\n",
       "         0.,  0.,  0.,  0.,  0.,  0., 95.,  0.,  0.,  0.,  0.,  0., 73.,  0.,\n",
       "         0.,  0.,  0.,  0.])"
      ]
     },
     "execution_count": 14,
     "metadata": {},
     "output_type": "execute_result"
    }
   ],
   "source": [
    "x0 = X[0, :]\n",
    "x0"
   ]
  },
  {
   "cell_type": "code",
   "execution_count": 15,
   "id": "f93dc029-5800-4a47-86ad-09889d758cbc",
   "metadata": {},
   "outputs": [],
   "source": [
    "xy = X @ x0\n",
    "xx = x0.T @ x0\n",
    "yy = X @ X.T"
   ]
  },
  {
   "cell_type": "code",
   "execution_count": 16,
   "id": "83718464-1390-4181-b91f-c41f4a235017",
   "metadata": {},
   "outputs": [
    {
     "data": {
      "text/plain": [
       "(torch.Size([52472]), torch.Size([]), torch.Size([52472, 52472]))"
      ]
     },
     "execution_count": 16,
     "metadata": {},
     "output_type": "execute_result"
    }
   ],
   "source": [
    "xy.shape, xx.shape, yy.shape"
   ]
  },
  {
   "cell_type": "code",
   "execution_count": 21,
   "id": "a9526425-0b47-4959-bc8b-5261b716e71c",
   "metadata": {},
   "outputs": [
    {
     "name": "stdout",
     "output_type": "stream",
     "text": [
      "\n",
      "Intel MKL ERROR: Parameter 12 was incorrect on entry to SGESDD.\n"
     ]
    },
    {
     "ename": "RuntimeError",
     "evalue": "falseINTERNAL ASSERT FAILED at \"../aten/src/ATen/native/LinearAlgebraUtils.h\":244, please report a bug to PyTorch. svd_cpu: Argument 12 has illegal value. Most certainly there is a bug in the implementation calling the backend library.",
     "output_type": "error",
     "traceback": [
      "\u001b[0;31m---------------------------------------------------------------------------\u001b[0m",
      "\u001b[0;31mRuntimeError\u001b[0m                              Traceback (most recent call last)",
      "\u001b[0;32m/tmp/ipykernel_197/987803316.py\u001b[0m in \u001b[0;36m<cell line: 1>\u001b[0;34m()\u001b[0m\n\u001b[0;32m----> 1\u001b[0;31m \u001b[0mtorch\u001b[0m\u001b[0;34m.\u001b[0m\u001b[0mlinalg\u001b[0m\u001b[0;34m.\u001b[0m\u001b[0mpinv\u001b[0m\u001b[0;34m(\u001b[0m\u001b[0mxx\u001b[0m \u001b[0;34m*\u001b[0m \u001b[0myy\u001b[0m\u001b[0;34m)\u001b[0m\u001b[0;34m\u001b[0m\u001b[0;34m\u001b[0m\u001b[0m\n\u001b[0m",
      "\u001b[0;31mRuntimeError\u001b[0m: falseINTERNAL ASSERT FAILED at \"../aten/src/ATen/native/LinearAlgebraUtils.h\":244, please report a bug to PyTorch. svd_cpu: Argument 12 has illegal value. Most certainly there is a bug in the implementation calling the backend library."
     ]
    }
   ],
   "source": [
    "torch.linalg.pinv(xx * yy)"
   ]
  },
  {
   "cell_type": "code",
   "execution_count": null,
   "id": "d8d7e428-b3fe-45fd-8b50-8d9b9534cdc9",
   "metadata": {},
   "outputs": [],
   "source": []
  },
  {
   "cell_type": "code",
   "execution_count": null,
   "id": "c71d7c73-dbc4-434f-8f25-b432901d4291",
   "metadata": {},
   "outputs": [],
   "source": []
  },
  {
   "cell_type": "code",
   "execution_count": null,
   "id": "05d66c01-0b9f-4a6b-8079-7be7d05b4993",
   "metadata": {},
   "outputs": [],
   "source": []
  },
  {
   "cell_type": "code",
   "execution_count": 36,
   "id": "e6e8ad31-f428-4157-b128-569f153a84d2",
   "metadata": {},
   "outputs": [],
   "source": [
    "X_norm = X.max(axis=0).values"
   ]
  },
  {
   "cell_type": "code",
   "execution_count": 40,
   "id": "da2ba76c-8b51-4f2b-9374-b76d8860ec70",
   "metadata": {},
   "outputs": [
    {
     "data": {
      "text/plain": [
       "tensor(51059.)"
      ]
     },
     "execution_count": 40,
     "metadata": {},
     "output_type": "execute_result"
    }
   ],
   "source": [
    "X[:, 0].max()"
   ]
  },
  {
   "cell_type": "code",
   "execution_count": 34,
   "id": "dbdaa6af-47cb-455e-ba93-41c4a0dcda58",
   "metadata": {},
   "outputs": [
    {
     "data": {
      "text/plain": [
       "tensor([95.,  2.,  6.,  ...,  4.,  2.,  2.])"
      ]
     },
     "execution_count": 34,
     "metadata": {},
     "output_type": "execute_result"
    }
   ],
   "source": [
    "X_norm"
   ]
  },
  {
   "cell_type": "code",
   "execution_count": 24,
   "id": "6796087f-d50f-469a-a79e-b4a7cb6da6b2",
   "metadata": {},
   "outputs": [
    {
     "data": {
      "text/plain": [
       "[(20, 95), (13, 78), (4, 74), (26, 73), (2, 70)]"
      ]
     },
     "execution_count": 24,
     "metadata": {},
     "output_type": "execute_result"
    }
   ],
   "source": [
    "model.shash.iloc[0]"
   ]
  },
  {
   "cell_type": "code",
   "execution_count": 5,
   "id": "755a74ac-d510-4093-b05b-8783c2fdedee",
   "metadata": {},
   "outputs": [
    {
     "data": {
      "text/html": [
       "<div>\n",
       "<style scoped>\n",
       "    .dataframe tbody tr th:only-of-type {\n",
       "        vertical-align: middle;\n",
       "    }\n",
       "\n",
       "    .dataframe tbody tr th {\n",
       "        vertical-align: top;\n",
       "    }\n",
       "\n",
       "    .dataframe thead th {\n",
       "        text-align: right;\n",
       "    }\n",
       "</style>\n",
       "<table border=\"1\" class=\"dataframe\">\n",
       "  <thead>\n",
       "    <tr style=\"text-align: right;\">\n",
       "      <th></th>\n",
       "      <th>buyer_id</th>\n",
       "      <th>pav_order_id</th>\n",
       "      <th>created</th>\n",
       "      <th>item_id</th>\n",
       "      <th>count</th>\n",
       "      <th>price_sold</th>\n",
       "      <th>flag_weight_goods</th>\n",
       "      <th>weight</th>\n",
       "      <th>sid</th>\n",
       "    </tr>\n",
       "  </thead>\n",
       "  <tbody>\n",
       "    <tr>\n",
       "      <th>0</th>\n",
       "      <td>95203091</td>\n",
       "      <td>98506637863</td>\n",
       "      <td>2021-07-01 00:03:44</td>\n",
       "      <td>202808329</td>\n",
       "      <td>1.000</td>\n",
       "      <td>79.990</td>\n",
       "      <td>False</td>\n",
       "      <td>11.14</td>\n",
       "      <td>9</td>\n",
       "    </tr>\n",
       "    <tr>\n",
       "      <th>1</th>\n",
       "      <td>95203091</td>\n",
       "      <td>98506637863</td>\n",
       "      <td>2021-07-01 00:03:44</td>\n",
       "      <td>202953905</td>\n",
       "      <td>1.072</td>\n",
       "      <td>44.945</td>\n",
       "      <td>True</td>\n",
       "      <td>11.14</td>\n",
       "      <td>17</td>\n",
       "    </tr>\n",
       "    <tr>\n",
       "      <th>2</th>\n",
       "      <td>95203091</td>\n",
       "      <td>98506637863</td>\n",
       "      <td>2021-07-01 00:03:44</td>\n",
       "      <td>203566452</td>\n",
       "      <td>1.000</td>\n",
       "      <td>69.990</td>\n",
       "      <td>False</td>\n",
       "      <td>11.14</td>\n",
       "      <td>20</td>\n",
       "    </tr>\n",
       "    <tr>\n",
       "      <th>3</th>\n",
       "      <td>95203091</td>\n",
       "      <td>98506637863</td>\n",
       "      <td>2021-07-01 00:03:44</td>\n",
       "      <td>202820143</td>\n",
       "      <td>1.972</td>\n",
       "      <td>41.295</td>\n",
       "      <td>True</td>\n",
       "      <td>11.14</td>\n",
       "      <td>15</td>\n",
       "    </tr>\n",
       "    <tr>\n",
       "      <th>4</th>\n",
       "      <td>95203091</td>\n",
       "      <td>98506637863</td>\n",
       "      <td>2021-07-01 00:03:44</td>\n",
       "      <td>204400422</td>\n",
       "      <td>1.000</td>\n",
       "      <td>269.990</td>\n",
       "      <td>False</td>\n",
       "      <td>11.14</td>\n",
       "      <td>6</td>\n",
       "    </tr>\n",
       "    <tr>\n",
       "      <th>...</th>\n",
       "      <td>...</td>\n",
       "      <td>...</td>\n",
       "      <td>...</td>\n",
       "      <td>...</td>\n",
       "      <td>...</td>\n",
       "      <td>...</td>\n",
       "      <td>...</td>\n",
       "      <td>...</td>\n",
       "      <td>...</td>\n",
       "    </tr>\n",
       "    <tr>\n",
       "      <th>4529884</th>\n",
       "      <td>95619205</td>\n",
       "      <td>4620221347</td>\n",
       "      <td>2021-09-07 18:48:29</td>\n",
       "      <td>204351817</td>\n",
       "      <td>1.000</td>\n",
       "      <td>99.990</td>\n",
       "      <td>False</td>\n",
       "      <td>9.84</td>\n",
       "      <td>9</td>\n",
       "    </tr>\n",
       "    <tr>\n",
       "      <th>4529885</th>\n",
       "      <td>95619205</td>\n",
       "      <td>4620221347</td>\n",
       "      <td>2021-09-07 18:48:29</td>\n",
       "      <td>203523604</td>\n",
       "      <td>1.000</td>\n",
       "      <td>62.190</td>\n",
       "      <td>False</td>\n",
       "      <td>9.84</td>\n",
       "      <td>20</td>\n",
       "    </tr>\n",
       "    <tr>\n",
       "      <th>4529886</th>\n",
       "      <td>95619205</td>\n",
       "      <td>4620221347</td>\n",
       "      <td>2021-09-07 18:48:29</td>\n",
       "      <td>203566357</td>\n",
       "      <td>2.000</td>\n",
       "      <td>39.890</td>\n",
       "      <td>False</td>\n",
       "      <td>9.84</td>\n",
       "      <td>21</td>\n",
       "    </tr>\n",
       "    <tr>\n",
       "      <th>4529887</th>\n",
       "      <td>95619205</td>\n",
       "      <td>4620221347</td>\n",
       "      <td>2021-09-07 18:48:29</td>\n",
       "      <td>203566418</td>\n",
       "      <td>1.000</td>\n",
       "      <td>62.190</td>\n",
       "      <td>False</td>\n",
       "      <td>9.84</td>\n",
       "      <td>18</td>\n",
       "    </tr>\n",
       "    <tr>\n",
       "      <th>4529888</th>\n",
       "      <td>95619205</td>\n",
       "      <td>4620221347</td>\n",
       "      <td>2021-09-07 18:48:29</td>\n",
       "      <td>204351820</td>\n",
       "      <td>1.000</td>\n",
       "      <td>99.990</td>\n",
       "      <td>False</td>\n",
       "      <td>9.84</td>\n",
       "      <td>12</td>\n",
       "    </tr>\n",
       "  </tbody>\n",
       "</table>\n",
       "<p>4529889 rows × 9 columns</p>\n",
       "</div>"
      ],
      "text/plain": [
       "         buyer_id  pav_order_id              created    item_id  count  \\\n",
       "0        95203091   98506637863  2021-07-01 00:03:44  202808329  1.000   \n",
       "1        95203091   98506637863  2021-07-01 00:03:44  202953905  1.072   \n",
       "2        95203091   98506637863  2021-07-01 00:03:44  203566452  1.000   \n",
       "3        95203091   98506637863  2021-07-01 00:03:44  202820143  1.972   \n",
       "4        95203091   98506637863  2021-07-01 00:03:44  204400422  1.000   \n",
       "...           ...           ...                  ...        ...    ...   \n",
       "4529884  95619205    4620221347  2021-09-07 18:48:29  204351817  1.000   \n",
       "4529885  95619205    4620221347  2021-09-07 18:48:29  203523604  1.000   \n",
       "4529886  95619205    4620221347  2021-09-07 18:48:29  203566357  2.000   \n",
       "4529887  95619205    4620221347  2021-09-07 18:48:29  203566418  1.000   \n",
       "4529888  95619205    4620221347  2021-09-07 18:48:29  204351820  1.000   \n",
       "\n",
       "         price_sold  flag_weight_goods  weight  sid  \n",
       "0            79.990              False   11.14    9  \n",
       "1            44.945               True   11.14   17  \n",
       "2            69.990              False   11.14   20  \n",
       "3            41.295               True   11.14   15  \n",
       "4           269.990              False   11.14    6  \n",
       "...             ...                ...     ...  ...  \n",
       "4529884      99.990              False    9.84    9  \n",
       "4529885      62.190              False    9.84   20  \n",
       "4529886      39.890              False    9.84   21  \n",
       "4529887      62.190              False    9.84   18  \n",
       "4529888      99.990              False    9.84   12  \n",
       "\n",
       "[4529889 rows x 9 columns]"
      ]
     },
     "execution_count": 5,
     "metadata": {},
     "output_type": "execute_result"
    }
   ],
   "source": [
    "hist_data"
   ]
  },
  {
   "cell_type": "code",
   "execution_count": null,
   "id": "576e895e-bfce-41e0-b8e0-7c712710faae",
   "metadata": {},
   "outputs": [],
   "source": []
  },
  {
   "cell_type": "code",
   "execution_count": null,
   "id": "68e89ee5-b71a-402a-af1b-514555a6cc15",
   "metadata": {},
   "outputs": [],
   "source": []
  },
  {
   "cell_type": "code",
   "execution_count": null,
   "id": "2f4a7b24-18a6-44aa-8de5-c82ccb517738",
   "metadata": {},
   "outputs": [],
   "source": []
  },
  {
   "cell_type": "code",
   "execution_count": null,
   "id": "81c3ffd7-05a9-4863-92b8-51ee4749e1ff",
   "metadata": {},
   "outputs": [],
   "source": []
  },
  {
   "cell_type": "code",
   "execution_count": null,
   "id": "12723512-7365-421a-a10d-a55e1975d886",
   "metadata": {},
   "outputs": [],
   "source": []
  },
  {
   "cell_type": "code",
   "execution_count": 3,
   "id": "4298069f-8f48-4cb1-be2a-22f2a7683062",
   "metadata": {},
   "outputs": [],
   "source": [
    "test = model.predict(test_data)\n",
    "test['preds'].to_csv('pred.csv')"
   ]
  },
  {
   "cell_type": "code",
   "execution_count": null,
   "id": "eefc5c49-1582-458e-9f9a-ffd6768e40c2",
   "metadata": {},
   "outputs": [],
   "source": []
  },
  {
   "cell_type": "markdown",
   "id": "2614caa8-5b0f-4c4e-b8d9-3aee03735726",
   "metadata": {},
   "source": [
    "### Test Model on Holdout"
   ]
  },
  {
   "cell_type": "markdown",
   "id": "7dbac4a0-ed94-49c8-aa58-d04ab2fbc2eb",
   "metadata": {},
   "source": [
    "#### Prepare Splits"
   ]
  },
  {
   "cell_type": "code",
   "execution_count": 4,
   "id": "f37418a3-21e4-4f46-85c7-2806b0d131cf",
   "metadata": {},
   "outputs": [],
   "source": [
    "\n",
    "from models.core import split_data\n",
    "from models.baseline import BaselineModel\n",
    "\n",
    "\n",
    "# разобьем историю в отношении 70 на 30 для трейна и валидации\n",
    "train_data, test_data, orders_sort, train_orders, test_orders = split_data(hist_data)\n",
    "\n"
   ]
  },
  {
   "cell_type": "markdown",
   "id": "35077106-b35b-4ea2-8132-4e8ac8260aa7",
   "metadata": {},
   "source": [
    "#### Play with top_n hyperparameter of baseline model"
   ]
  },
  {
   "cell_type": "code",
   "execution_count": 5,
   "id": "133cd959-c509-41d1-812b-999c1f9e9732",
   "metadata": {},
   "outputs": [
    {
     "data": {
      "text/plain": [
       "0.34481132996828945"
      ]
     },
     "execution_count": 5,
     "metadata": {},
     "output_type": "execute_result"
    }
   ],
   "source": [
    "model = BaselineModel(top_n = 10)\n",
    "model.train(train_data)\n",
    "model.quality(test_data)"
   ]
  },
  {
   "cell_type": "code",
   "execution_count": 6,
   "id": "ccccf575-125c-4ce1-8c88-e5f0ead080bb",
   "metadata": {},
   "outputs": [
    {
     "data": {
      "text/plain": [
       "0.3146923962889297"
      ]
     },
     "execution_count": 6,
     "metadata": {},
     "output_type": "execute_result"
    }
   ],
   "source": [
    "model = BaselineModel(top_n = 15)\n",
    "model.train(train_data)\n",
    "model.quality(test_data)"
   ]
  },
  {
   "cell_type": "code",
   "execution_count": 7,
   "id": "e6afee25-bde8-4133-9fff-9a836fd3c3b8",
   "metadata": {},
   "outputs": [
    {
     "data": {
      "text/plain": [
       "0.39452886611806376"
      ]
     },
     "execution_count": 7,
     "metadata": {},
     "output_type": "execute_result"
    }
   ],
   "source": [
    "model = BaselineModel(top_n = 5)\n",
    "model.train(train_data)\n",
    "model.quality(test_data)"
   ]
  },
  {
   "cell_type": "code",
   "execution_count": null,
   "id": "2257cb05-22ca-4656-8f12-3afb51cd98b5",
   "metadata": {},
   "outputs": [],
   "source": []
  }
 ],
 "metadata": {
  "kernelspec": {
   "display_name": "Python 3 (ipykernel)",
   "language": "python",
   "name": "python3"
  },
  "language_info": {
   "codemirror_mode": {
    "name": "ipython",
    "version": 3
   },
   "file_extension": ".py",
   "mimetype": "text/x-python",
   "name": "python",
   "nbconvert_exporter": "python",
   "pygments_lexer": "ipython3",
   "version": "3.9.7"
  }
 },
 "nbformat": 4,
 "nbformat_minor": 5
}

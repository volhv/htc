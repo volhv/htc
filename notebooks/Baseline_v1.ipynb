{
 "cells": [
  {
   "cell_type": "code",
   "execution_count": 1,
   "id": "93fb5c9b-32d1-4ede-813f-333b72b5df24",
   "metadata": {},
   "outputs": [],
   "source": [
    "import pandas as pd\n",
    "\n",
    "hist_data = pd.read_csv('../datasets/hist_data.csv.gz')\n",
    "test_data = pd.read_csv('../datasets/test.csv.gz')\n"
   ]
  },
  {
   "cell_type": "markdown",
   "id": "96552400-df96-4853-b555-9eb8a841c37f",
   "metadata": {},
   "source": [
    "### Prepare Submission File"
   ]
  },
  {
   "cell_type": "code",
   "execution_count": 2,
   "id": "0da32cdf-5bfc-450e-b0e9-a5d7065c2692",
   "metadata": {},
   "outputs": [],
   "source": [
    "from models.baseline import BaselineModel\n",
    "\n",
    "model = BaselineModel(top_n = 3)\n",
    "model.train(hist_data)"
   ]
  },
  {
   "cell_type": "code",
   "execution_count": 3,
   "id": "4298069f-8f48-4cb1-be2a-22f2a7683062",
   "metadata": {},
   "outputs": [],
   "source": [
    "test = model.predict(test_data)\n",
    "test['preds'].to_csv('pred.csv')"
   ]
  },
  {
   "cell_type": "code",
   "execution_count": null,
   "id": "eefc5c49-1582-458e-9f9a-ffd6768e40c2",
   "metadata": {},
   "outputs": [],
   "source": []
  },
  {
   "cell_type": "markdown",
   "id": "2614caa8-5b0f-4c4e-b8d9-3aee03735726",
   "metadata": {},
   "source": [
    "### Test Model on Holdout"
   ]
  },
  {
   "cell_type": "markdown",
   "id": "7dbac4a0-ed94-49c8-aa58-d04ab2fbc2eb",
   "metadata": {},
   "source": [
    "#### Prepare Splits"
   ]
  },
  {
   "cell_type": "code",
   "execution_count": 4,
   "id": "f37418a3-21e4-4f46-85c7-2806b0d131cf",
   "metadata": {},
   "outputs": [],
   "source": [
    "\n",
    "from models.core import split_data\n",
    "from models.baseline import BaselineModel\n",
    "\n",
    "\n",
    "# разобьем историю в отношении 70 на 30 для трейна и валидации\n",
    "train_data_split, test_data_split, orders_sort, train_orders, test_orders = split_data(hist_data)\n",
    "\n"
   ]
  },
  {
   "cell_type": "markdown",
   "id": "35077106-b35b-4ea2-8132-4e8ac8260aa7",
   "metadata": {},
   "source": [
    "#### Play with top_n hyperparameter of baseline model"
   ]
  },
  {
   "cell_type": "code",
   "execution_count": 5,
   "id": "133cd959-c509-41d1-812b-999c1f9e9732",
   "metadata": {},
   "outputs": [
    {
     "data": {
      "text/plain": [
       "0.34481132996828945"
      ]
     },
     "execution_count": 5,
     "metadata": {},
     "output_type": "execute_result"
    }
   ],
   "source": [
    "model = BaselineModel(top_n = 10)\n",
    "model.train(train_data_split)\n",
    "model.quality(test_data_split)"
   ]
  },
  {
   "cell_type": "code",
   "execution_count": 6,
   "id": "ccccf575-125c-4ce1-8c88-e5f0ead080bb",
   "metadata": {},
   "outputs": [
    {
     "data": {
      "text/plain": [
       "0.3146923962889297"
      ]
     },
     "execution_count": 6,
     "metadata": {},
     "output_type": "execute_result"
    }
   ],
   "source": [
    "model = BaselineModel(top_n = 15)\n",
    "model.train(train_data_split)\n",
    "model.quality(test_data_split)"
   ]
  },
  {
   "cell_type": "code",
   "execution_count": 7,
   "id": "e6afee25-bde8-4133-9fff-9a836fd3c3b8",
   "metadata": {},
   "outputs": [
    {
     "data": {
      "text/plain": [
       "0.39452886611806376"
      ]
     },
     "execution_count": 7,
     "metadata": {},
     "output_type": "execute_result"
    }
   ],
   "source": [
    "model = BaselineModel(top_n = 5)\n",
    "model.train(train_data_split)\n",
    "model.quality(test_data_split)"
   ]
  },
  {
   "cell_type": "code",
   "execution_count": null,
   "id": "2257cb05-22ca-4656-8f12-3afb51cd98b5",
   "metadata": {},
   "outputs": [],
   "source": []
  }
 ],
 "metadata": {
  "kernelspec": {
   "display_name": "Python 3 (ipykernel)",
   "language": "python",
   "name": "python3"
  },
  "language_info": {
   "codemirror_mode": {
    "name": "ipython",
    "version": 3
   },
   "file_extension": ".py",
   "mimetype": "text/x-python",
   "name": "python",
   "nbconvert_exporter": "python",
   "pygments_lexer": "ipython3",
   "version": "3.9.7"
  }
 },
 "nbformat": 4,
 "nbformat_minor": 5
}

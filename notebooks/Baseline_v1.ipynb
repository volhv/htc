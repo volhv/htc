{
 "cells": [
  {
   "cell_type": "code",
   "execution_count": 7,
   "id": "93fb5c9b-32d1-4ede-813f-333b72b5df24",
   "metadata": {},
   "outputs": [],
   "source": [
    "import pandas as pd\n",
    "\n",
    "hist_data = pd.read_csv('../datasets/hist_data.csv.gz')\n",
    "test_data = pd.read_csv('../datasets/test.csv.gz')\n"
   ]
  },
  {
   "cell_type": "code",
   "execution_count": null,
   "id": "6577f31d-9447-49b3-a6b7-62da12d22312",
   "metadata": {},
   "outputs": [],
   "source": []
  },
  {
   "cell_type": "code",
   "execution_count": null,
   "id": "0da32cdf-5bfc-450e-b0e9-a5d7065c2692",
   "metadata": {},
   "outputs": [],
   "source": [
    "from models.baseline import BaselineModel\n",
    "\n",
    "model = BaselineModel(top_n = 3)\n",
    "model.train(hist_data)"
   ]
  },
  {
   "cell_type": "code",
   "execution_count": null,
   "id": "4298069f-8f48-4cb1-be2a-22f2a7683062",
   "metadata": {},
   "outputs": [],
   "source": [
    "test = model.predict(test_data)\n",
    "test.to_csv('pred.csv')"
   ]
  },
  {
   "cell_type": "code",
   "execution_count": null,
   "id": "eefc5c49-1582-458e-9f9a-ffd6768e40c2",
   "metadata": {},
   "outputs": [],
   "source": [
    "test['preds'].to_csv('pred.csv')"
   ]
  },
  {
   "cell_type": "code",
   "execution_count": null,
   "id": "021bec90-13b1-4215-b32e-cc4be5f0d967",
   "metadata": {},
   "outputs": [],
   "source": []
  }
 ],
 "metadata": {
  "kernelspec": {
   "display_name": "Python 3 (ipykernel)",
   "language": "python",
   "name": "python3"
  },
  "language_info": {
   "codemirror_mode": {
    "name": "ipython",
    "version": 3
   },
   "file_extension": ".py",
   "mimetype": "text/x-python",
   "name": "python",
   "nbconvert_exporter": "python",
   "pygments_lexer": "ipython3",
   "version": "3.9.7"
  }
 },
 "nbformat": 4,
 "nbformat_minor": 5
}

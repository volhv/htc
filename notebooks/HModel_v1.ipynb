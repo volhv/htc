{
 "cells": [
  {
   "cell_type": "code",
   "execution_count": 1,
   "id": "93fb5c9b-32d1-4ede-813f-333b72b5df24",
   "metadata": {},
   "outputs": [],
   "source": [
    "import pandas as pd\n",
    "\n",
    "hist_data = pd.read_csv('../datasets/hist_data.csv.gz')\n",
    "test_data = pd.read_csv('../datasets/test.csv.gz')\n"
   ]
  },
  {
   "cell_type": "code",
   "execution_count": 2,
   "id": "6bb4f5de-9213-4152-aa37-e8f98f63d5c0",
   "metadata": {},
   "outputs": [
    {
     "data": {
      "text/plain": [
       "(4529889, 8)"
      ]
     },
     "execution_count": 2,
     "metadata": {},
     "output_type": "execute_result"
    }
   ],
   "source": [
    "hist_data.shape"
   ]
  },
  {
   "cell_type": "markdown",
   "id": "96552400-df96-4853-b555-9eb8a841c37f",
   "metadata": {},
   "source": [
    "### Prepare Submission File"
   ]
  },
  {
   "cell_type": "code",
   "execution_count": null,
   "id": "0da32cdf-5bfc-450e-b0e9-a5d7065c2692",
   "metadata": {},
   "outputs": [],
   "source": [
    "from models.hmodel import HModel\n",
    "\n",
    "model = HModel(top_n = 5, seed = 32)\n",
    "model.train(hist_data)"
   ]
  },
  {
   "cell_type": "code",
   "execution_count": 3,
   "id": "573fc047-fe4a-48e4-9d4c-de387cc6feab",
   "metadata": {},
   "outputs": [
    {
     "data": {
      "text/plain": [
       "Series([], Name: sid_left, dtype: float64)"
      ]
     },
     "execution_count": 3,
     "metadata": {},
     "output_type": "execute_result"
    }
   ],
   "source": [
    "model.shash"
   ]
  },
  {
   "cell_type": "code",
   "execution_count": 7,
   "id": "755a74ac-d510-4093-b05b-8783c2fdedee",
   "metadata": {},
   "outputs": [
    {
     "data": {
      "text/html": [
       "<div>\n",
       "<style scoped>\n",
       "    .dataframe tbody tr th:only-of-type {\n",
       "        vertical-align: middle;\n",
       "    }\n",
       "\n",
       "    .dataframe tbody tr th {\n",
       "        vertical-align: top;\n",
       "    }\n",
       "\n",
       "    .dataframe thead th {\n",
       "        text-align: right;\n",
       "    }\n",
       "</style>\n",
       "<table border=\"1\" class=\"dataframe\">\n",
       "  <thead>\n",
       "    <tr style=\"text-align: right;\">\n",
       "      <th></th>\n",
       "      <th>Unnamed: 0</th>\n",
       "      <th>buyer_id</th>\n",
       "      <th>pav_order_id</th>\n",
       "      <th>created</th>\n",
       "      <th>item_id</th>\n",
       "      <th>count</th>\n",
       "      <th>price_sold</th>\n",
       "      <th>flag_weight_goods</th>\n",
       "      <th>weight</th>\n",
       "      <th>sid</th>\n",
       "    </tr>\n",
       "  </thead>\n",
       "  <tbody>\n",
       "    <tr>\n",
       "      <th>0</th>\n",
       "      <td>918576</td>\n",
       "      <td>95583608</td>\n",
       "      <td>98509324445</td>\n",
       "      <td>2021-07-13 09:35:56</td>\n",
       "      <td>204042192</td>\n",
       "      <td>1.000</td>\n",
       "      <td>21.890</td>\n",
       "      <td>False</td>\n",
       "      <td>6.12</td>\n",
       "      <td>16</td>\n",
       "    </tr>\n",
       "    <tr>\n",
       "      <th>1</th>\n",
       "      <td>2904947</td>\n",
       "      <td>95587450</td>\n",
       "      <td>98514604482</td>\n",
       "      <td>2021-08-08 18:08:27</td>\n",
       "      <td>211089569</td>\n",
       "      <td>2.000</td>\n",
       "      <td>12.890</td>\n",
       "      <td>False</td>\n",
       "      <td>21.56</td>\n",
       "      <td>1</td>\n",
       "    </tr>\n",
       "    <tr>\n",
       "      <th>2</th>\n",
       "      <td>665317</td>\n",
       "      <td>95335936</td>\n",
       "      <td>98508612209</td>\n",
       "      <td>2021-07-09 18:23:34</td>\n",
       "      <td>202807098</td>\n",
       "      <td>1.000</td>\n",
       "      <td>167.690</td>\n",
       "      <td>False</td>\n",
       "      <td>12.60</td>\n",
       "      <td>26</td>\n",
       "    </tr>\n",
       "    <tr>\n",
       "      <th>3</th>\n",
       "      <td>1150842</td>\n",
       "      <td>95261464</td>\n",
       "      <td>98509973588</td>\n",
       "      <td>2021-07-16 10:40:28</td>\n",
       "      <td>202818687</td>\n",
       "      <td>1.000</td>\n",
       "      <td>59.990</td>\n",
       "      <td>False</td>\n",
       "      <td>10.78</td>\n",
       "      <td>31</td>\n",
       "    </tr>\n",
       "    <tr>\n",
       "      <th>4</th>\n",
       "      <td>4229744</td>\n",
       "      <td>95636723</td>\n",
       "      <td>98518566879</td>\n",
       "      <td>2021-08-27 21:03:12</td>\n",
       "      <td>203549853</td>\n",
       "      <td>1.037</td>\n",
       "      <td>396.228</td>\n",
       "      <td>True</td>\n",
       "      <td>16.25</td>\n",
       "      <td>29</td>\n",
       "    </tr>\n",
       "    <tr>\n",
       "      <th>...</th>\n",
       "      <td>...</td>\n",
       "      <td>...</td>\n",
       "      <td>...</td>\n",
       "      <td>...</td>\n",
       "      <td>...</td>\n",
       "      <td>...</td>\n",
       "      <td>...</td>\n",
       "      <td>...</td>\n",
       "      <td>...</td>\n",
       "      <td>...</td>\n",
       "    </tr>\n",
       "    <tr>\n",
       "      <th>9995</th>\n",
       "      <td>578819</td>\n",
       "      <td>94910770</td>\n",
       "      <td>98508380326</td>\n",
       "      <td>2021-07-08 17:56:09</td>\n",
       "      <td>203430170</td>\n",
       "      <td>2.000</td>\n",
       "      <td>59.890</td>\n",
       "      <td>False</td>\n",
       "      <td>12.21</td>\n",
       "      <td>26</td>\n",
       "    </tr>\n",
       "    <tr>\n",
       "      <th>9996</th>\n",
       "      <td>1780180</td>\n",
       "      <td>95875115</td>\n",
       "      <td>98511689398</td>\n",
       "      <td>2021-07-24 14:30:48</td>\n",
       "      <td>203438161</td>\n",
       "      <td>0.500</td>\n",
       "      <td>70.295</td>\n",
       "      <td>True</td>\n",
       "      <td>12.04</td>\n",
       "      <td>17</td>\n",
       "    </tr>\n",
       "    <tr>\n",
       "      <th>9997</th>\n",
       "      <td>327017</td>\n",
       "      <td>94715660</td>\n",
       "      <td>98507619586</td>\n",
       "      <td>2021-07-05 10:31:45</td>\n",
       "      <td>203266933</td>\n",
       "      <td>1.000</td>\n",
       "      <td>69.990</td>\n",
       "      <td>False</td>\n",
       "      <td>8.32</td>\n",
       "      <td>21</td>\n",
       "    </tr>\n",
       "    <tr>\n",
       "      <th>9998</th>\n",
       "      <td>1414160</td>\n",
       "      <td>94725064</td>\n",
       "      <td>98510706078</td>\n",
       "      <td>2021-07-19 17:27:55</td>\n",
       "      <td>202820144</td>\n",
       "      <td>1.000</td>\n",
       "      <td>24.995</td>\n",
       "      <td>True</td>\n",
       "      <td>5.82</td>\n",
       "      <td>16</td>\n",
       "    </tr>\n",
       "    <tr>\n",
       "      <th>9999</th>\n",
       "      <td>1889113</td>\n",
       "      <td>94617364</td>\n",
       "      <td>98511979007</td>\n",
       "      <td>2021-07-26 07:14:14</td>\n",
       "      <td>203474000</td>\n",
       "      <td>1.000</td>\n",
       "      <td>79.990</td>\n",
       "      <td>False</td>\n",
       "      <td>17.15</td>\n",
       "      <td>16</td>\n",
       "    </tr>\n",
       "  </tbody>\n",
       "</table>\n",
       "<p>10000 rows × 10 columns</p>\n",
       "</div>"
      ],
      "text/plain": [
       "      Unnamed: 0  buyer_id  pav_order_id              created    item_id  \\\n",
       "0         918576  95583608   98509324445  2021-07-13 09:35:56  204042192   \n",
       "1        2904947  95587450   98514604482  2021-08-08 18:08:27  211089569   \n",
       "2         665317  95335936   98508612209  2021-07-09 18:23:34  202807098   \n",
       "3        1150842  95261464   98509973588  2021-07-16 10:40:28  202818687   \n",
       "4        4229744  95636723   98518566879  2021-08-27 21:03:12  203549853   \n",
       "...          ...       ...           ...                  ...        ...   \n",
       "9995      578819  94910770   98508380326  2021-07-08 17:56:09  203430170   \n",
       "9996     1780180  95875115   98511689398  2021-07-24 14:30:48  203438161   \n",
       "9997      327017  94715660   98507619586  2021-07-05 10:31:45  203266933   \n",
       "9998     1414160  94725064   98510706078  2021-07-19 17:27:55  202820144   \n",
       "9999     1889113  94617364   98511979007  2021-07-26 07:14:14  203474000   \n",
       "\n",
       "      count  price_sold  flag_weight_goods  weight  sid  \n",
       "0     1.000      21.890              False    6.12   16  \n",
       "1     2.000      12.890              False   21.56    1  \n",
       "2     1.000     167.690              False   12.60   26  \n",
       "3     1.000      59.990              False   10.78   31  \n",
       "4     1.037     396.228               True   16.25   29  \n",
       "...     ...         ...                ...     ...  ...  \n",
       "9995  2.000      59.890              False   12.21   26  \n",
       "9996  0.500      70.295               True   12.04   17  \n",
       "9997  1.000      69.990              False    8.32   21  \n",
       "9998  1.000      24.995               True    5.82   16  \n",
       "9999  1.000      79.990              False   17.15   16  \n",
       "\n",
       "[10000 rows x 10 columns]"
      ]
     },
     "execution_count": 7,
     "metadata": {},
     "output_type": "execute_result"
    }
   ],
   "source": [
    "hist_data"
   ]
  },
  {
   "cell_type": "code",
   "execution_count": null,
   "id": "576e895e-bfce-41e0-b8e0-7c712710faae",
   "metadata": {},
   "outputs": [],
   "source": []
  },
  {
   "cell_type": "code",
   "execution_count": null,
   "id": "68e89ee5-b71a-402a-af1b-514555a6cc15",
   "metadata": {},
   "outputs": [],
   "source": []
  },
  {
   "cell_type": "code",
   "execution_count": null,
   "id": "2f4a7b24-18a6-44aa-8de5-c82ccb517738",
   "metadata": {},
   "outputs": [],
   "source": []
  },
  {
   "cell_type": "code",
   "execution_count": null,
   "id": "81c3ffd7-05a9-4863-92b8-51ee4749e1ff",
   "metadata": {},
   "outputs": [],
   "source": []
  },
  {
   "cell_type": "code",
   "execution_count": null,
   "id": "12723512-7365-421a-a10d-a55e1975d886",
   "metadata": {},
   "outputs": [],
   "source": []
  },
  {
   "cell_type": "code",
   "execution_count": 3,
   "id": "4298069f-8f48-4cb1-be2a-22f2a7683062",
   "metadata": {},
   "outputs": [],
   "source": [
    "test = model.predict(test_data)\n",
    "test['preds'].to_csv('pred.csv')"
   ]
  },
  {
   "cell_type": "code",
   "execution_count": null,
   "id": "eefc5c49-1582-458e-9f9a-ffd6768e40c2",
   "metadata": {},
   "outputs": [],
   "source": []
  },
  {
   "cell_type": "markdown",
   "id": "2614caa8-5b0f-4c4e-b8d9-3aee03735726",
   "metadata": {},
   "source": [
    "### Test Model on Holdout"
   ]
  },
  {
   "cell_type": "markdown",
   "id": "7dbac4a0-ed94-49c8-aa58-d04ab2fbc2eb",
   "metadata": {},
   "source": [
    "#### Prepare Splits"
   ]
  },
  {
   "cell_type": "code",
   "execution_count": 4,
   "id": "f37418a3-21e4-4f46-85c7-2806b0d131cf",
   "metadata": {},
   "outputs": [],
   "source": [
    "\n",
    "from models.core import split_data\n",
    "from models.baseline import BaselineModel\n",
    "\n",
    "\n",
    "# разобьем историю в отношении 70 на 30 для трейна и валидации\n",
    "train_data, test_data, orders_sort, train_orders, test_orders = split_data(hist_data)\n",
    "\n"
   ]
  },
  {
   "cell_type": "markdown",
   "id": "35077106-b35b-4ea2-8132-4e8ac8260aa7",
   "metadata": {},
   "source": [
    "#### Play with top_n hyperparameter of baseline model"
   ]
  },
  {
   "cell_type": "code",
   "execution_count": 5,
   "id": "133cd959-c509-41d1-812b-999c1f9e9732",
   "metadata": {},
   "outputs": [
    {
     "data": {
      "text/plain": [
       "0.34481132996828945"
      ]
     },
     "execution_count": 5,
     "metadata": {},
     "output_type": "execute_result"
    }
   ],
   "source": [
    "model = BaselineModel(top_n = 10)\n",
    "model.train(train_data)\n",
    "model.quality(test_data)"
   ]
  },
  {
   "cell_type": "code",
   "execution_count": 6,
   "id": "ccccf575-125c-4ce1-8c88-e5f0ead080bb",
   "metadata": {},
   "outputs": [
    {
     "data": {
      "text/plain": [
       "0.3146923962889297"
      ]
     },
     "execution_count": 6,
     "metadata": {},
     "output_type": "execute_result"
    }
   ],
   "source": [
    "model = BaselineModel(top_n = 15)\n",
    "model.train(train_data)\n",
    "model.quality(test_data)"
   ]
  },
  {
   "cell_type": "code",
   "execution_count": 7,
   "id": "e6afee25-bde8-4133-9fff-9a836fd3c3b8",
   "metadata": {},
   "outputs": [
    {
     "data": {
      "text/plain": [
       "0.39452886611806376"
      ]
     },
     "execution_count": 7,
     "metadata": {},
     "output_type": "execute_result"
    }
   ],
   "source": [
    "model = BaselineModel(top_n = 5)\n",
    "model.train(train_data)\n",
    "model.quality(test_data)"
   ]
  },
  {
   "cell_type": "code",
   "execution_count": null,
   "id": "2257cb05-22ca-4656-8f12-3afb51cd98b5",
   "metadata": {},
   "outputs": [],
   "source": []
  }
 ],
 "metadata": {
  "kernelspec": {
   "display_name": "Python 3 (ipykernel)",
   "language": "python",
   "name": "python3"
  },
  "language_info": {
   "codemirror_mode": {
    "name": "ipython",
    "version": 3
   },
   "file_extension": ".py",
   "mimetype": "text/x-python",
   "name": "python",
   "nbconvert_exporter": "python",
   "pygments_lexer": "ipython3",
   "version": "3.9.7"
  }
 },
 "nbformat": 4,
 "nbformat_minor": 5
}

{
 "cells": [
  {
   "cell_type": "code",
   "execution_count": 2,
   "id": "b45f8ef9-fa18-497c-8aa0-b06063dd801b",
   "metadata": {},
   "outputs": [
    {
     "name": "stdout",
     "output_type": "stream",
     "text": [
      "  % Total    % Received % Xferd  Average Speed   Time    Time     Time  Current\n",
      "                                 Dload  Upload   Total   Spent    Left  Speed\n",
      "100 73.2M  100 73.2M    0     0  3787k      0  0:00:19  0:00:19 --:--:-- 5314k\n"
     ]
    }
   ],
   "source": [
    "!curl -O https://hktn2022.blob.core.windows.net/dataset/test.csv"
   ]
  },
  {
   "cell_type": "code",
   "execution_count": 3,
   "id": "84c12727-df3d-403e-adf4-f384286720ea",
   "metadata": {},
   "outputs": [
    {
     "name": "stdout",
     "output_type": "stream",
     "text": [
      "total 82720\n",
      "drwxr-xr-x  5 tim dialout      160 Mar 25 17:31 .\n",
      "drwxr-xr-x 10 tim dialout      320 Mar 25 17:30 ..\n",
      "-rw-r--r--  1 tim dialout     1225 Mar 25 17:31 Baseline.ipynb\n",
      "-rw-r--r--  1 tim dialout        0 Mar 25 16:45 README.txt\n",
      "-rw-r--r--  1 tim dialout 76848171 Mar 25 17:31 test.csv\n"
     ]
    }
   ],
   "source": [
    "!ls -la"
   ]
  },
  {
   "cell_type": "code",
   "execution_count": null,
   "id": "933a9dd1-6541-4fe9-a273-d5f56f7e577c",
   "metadata": {},
   "outputs": [],
   "source": []
  }
 ],
 "metadata": {
  "kernelspec": {
   "display_name": "Python 3 (ipykernel)",
   "language": "python",
   "name": "python3"
  },
  "language_info": {
   "codemirror_mode": {
    "name": "ipython",
    "version": 3
   },
   "file_extension": ".py",
   "mimetype": "text/x-python",
   "name": "python",
   "nbconvert_exporter": "python",
   "pygments_lexer": "ipython3",
   "version": "3.9.7"
  }
 },
 "nbformat": 4,
 "nbformat_minor": 5
}

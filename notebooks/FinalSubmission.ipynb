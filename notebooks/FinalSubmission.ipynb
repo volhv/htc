{
 "cells": [
  {
   "cell_type": "code",
   "execution_count": 1,
   "metadata": {
    "colab": {
     "base_uri": "https://localhost:8080/"
    },
    "id": "qbZ0bPVYu7Co",
    "outputId": "42132be2-f56e-400a-a0c4-ff19ad14d09e"
   },
   "outputs": [
    {
     "name": "stdout",
     "output_type": "stream",
     "text": [
      "--2022-03-27 07:42:08--  https://hktn2022.blob.core.windows.net/dataset/hist_data.csv\n",
      "Resolving hktn2022.blob.core.windows.net (hktn2022.blob.core.windows.net)... 52.239.143.36\n",
      "Connecting to hktn2022.blob.core.windows.net (hktn2022.blob.core.windows.net)|52.239.143.36|:443... connected.\n",
      "HTTP request sent, awaiting response... 200 OK\n",
      "Length: 347659751 (332M) [application/vnd.ms-excel]\n",
      "Saving to: ‘hist_data.csv’\n",
      "\n",
      "hist_data.csv       100%[===================>] 331.55M  9.09MB/s    in 33s     \n",
      "\n",
      "2022-03-27 07:42:41 (10.1 MB/s) - ‘hist_data.csv’ saved [347659751/347659751]\n",
      "\n",
      "--2022-03-27 07:42:42--  https://hktn2022.blob.core.windows.net/dataset/test.csv\n",
      "Resolving hktn2022.blob.core.windows.net (hktn2022.blob.core.windows.net)... 52.239.143.36\n",
      "Connecting to hktn2022.blob.core.windows.net (hktn2022.blob.core.windows.net)|52.239.143.36|:443... connected.\n",
      "HTTP request sent, awaiting response... 200 OK\n",
      "Length: 76848171 (73M) [application/vnd.ms-excel]\n",
      "Saving to: ‘test.csv’\n",
      "\n",
      "test.csv            100%[===================>]  73.29M  13.0MB/s    in 8.4s    \n",
      "\n",
      "2022-03-27 07:42:51 (8.74 MB/s) - ‘test.csv’ saved [76848171/76848171]\n",
      "\n"
     ]
    }
   ],
   "source": [
    "!wget https://hktn2022.blob.core.windows.net/dataset/hist_data.csv\n",
    "!wget https://hktn2022.blob.core.windows.net/dataset/test.csv"
   ]
  },
  {
   "cell_type": "code",
   "execution_count": 1,
   "metadata": {
    "id": "f9M97C2KvBDr"
   },
   "outputs": [],
   "source": [
    "import pandas as pd\n",
    "import numpy as np\n",
    "from collections import Counter \n",
    "import itertools"
   ]
  },
  {
   "cell_type": "code",
   "execution_count": 2,
   "metadata": {
    "id": "HYQd4CaevEga"
   },
   "outputs": [],
   "source": [
    "## Загружаем данные\n",
    "#hist_df = pd.read_csv('../datasets/hist_data.csv.gz')\n",
    "hist_df = pd.read_csv('hist_data.csv')"
   ]
  },
  {
   "cell_type": "code",
   "execution_count": 3,
   "metadata": {
    "id": "blwE0LEVtyvx"
   },
   "outputs": [],
   "source": [
    "## Для каждого продукта считаем количество корзин в которые он вошел\n",
    "item_cart = hist_df.groupby('item_id', as_index=False)['count'].count()"
   ]
  },
  {
   "cell_type": "code",
   "execution_count": 4,
   "metadata": {
    "id": "aMxW2d1duAFr"
   },
   "outputs": [],
   "source": [
    "## Аналогично для каждого пользователя вычисляем сколько раз он совершал покупки\n",
    "user_cart = hist_df.groupby('buyer_id', as_index=False)['pav_order_id'].nunique()"
   ]
  },
  {
   "cell_type": "code",
   "execution_count": 5,
   "metadata": {
    "id": "uEvMvRbDvX8v"
   },
   "outputs": [],
   "source": [
    "n = 5"
   ]
  },
  {
   "cell_type": "code",
   "execution_count": 10,
   "metadata": {
    "id": "-rmZSX5E0TIR"
   },
   "outputs": [],
   "source": [
    "## Для каждого товара находим товары с которыми он чаще всего попадает в корзину\n",
    "tmp_df = hist_df[['item_id', 'pav_order_id']].sort_values(['item_id', 'pav_order_id'])\n",
    "tmp_df = tmp_df.merge(tmp_df, how='left', on=['pav_order_id'], suffixes=('', '_left'))\n",
    "tmp_df = tmp_df.loc[tmp_df['item_id'] != tmp_df['item_id_left']]"
   ]
  },
  {
   "cell_type": "code",
   "execution_count": 11,
   "metadata": {
    "id": "2RO3or9s1P8G"
   },
   "outputs": [],
   "source": [
    "item_commons_df = tmp_df.groupby(\n",
    "    ['item_id'])['item_id_left'].agg(lambda x: Counter(x).most_common(n)).reset_index()"
   ]
  },
  {
   "cell_type": "code",
   "execution_count": 12,
   "metadata": {
    "id": "TKDFaCYY4Blo"
   },
   "outputs": [],
   "source": [
    "## Для каждого клиента находим товары которые он покупает чаще всего\n",
    "buyer_commons_df = hist_df.groupby(\n",
    "    ['buyer_id'])['item_id'].agg(lambda x: Counter(x).most_common(2 * n)).reset_index()"
   ]
  },
  {
   "cell_type": "code",
   "execution_count": 13,
   "metadata": {
    "id": "lfAGGGOJ5iCs"
   },
   "outputs": [],
   "source": [
    "#test_df = pd.read_csv('../datasets/test.csv.gz')\n",
    "test_df = pd.read_csv('test.csv')"
   ]
  },
  {
   "cell_type": "code",
   "execution_count": 14,
   "metadata": {
    "id": "5OiXwDaF6JRm"
   },
   "outputs": [],
   "source": [
    "pred_df = test_df.groupby(['pav_order_id', 'buyer_id'])['item_id'].agg([('basket', list)]).reset_index()"
   ]
  },
  {
   "cell_type": "code",
   "execution_count": 15,
   "metadata": {
    "id": "UWF7E4RM4FmZ"
   },
   "outputs": [],
   "source": [
    "## Для совстречаемых товаров находим вероятность увидеть их в одной корзине\n",
    "item_commons_df = item_commons_df.merge(item_cart, on=['item_id'])\n",
    "item_commons_df['item_id_left'] = item_commons_df.apply(lambda x : [(y[0], y[1] / x['count']) for y in x['item_id_left']], 1)"
   ]
  },
  {
   "cell_type": "code",
   "execution_count": 16,
   "metadata": {
    "id": "Xn9uy2fJ8dY-"
   },
   "outputs": [],
   "source": [
    "def preds_for_basket(row):\n",
    "    basket = row['basket']\n",
    "    user_id = row['buyer_id']\n",
    "    common_items = item_commons_df[item_commons_df['item_id'].isin(basket)].copy()\n",
    "\n",
    "    ## Взешиваем вероятности товаров в зависимости от того как часто они были купленны\n",
    "    common_items['weight'] = np.exp(-(common_items['count'].max() - common_items['count']) / (common_items['count'].mean()))\n",
    "    common_items['item_id_left'] = common_items.apply(lambda x : [(y[0], y[1] * x['weight']) for y in x['item_id_left']], 1)\n",
    "    common_items = common_items['item_id_left'].values.tolist()\n",
    "    common_items = list(itertools.chain(*common_items))\n",
    "    common_items = list(zip(*common_items))\n",
    "    res_df = pd.DataFrame({'item_id' : common_items[0], 'freq' : common_items[1], 'user' : 0})\n",
    "\n",
    "    ## Добавляем товары наиболее популярные у пользователя\n",
    "    if user_id in buyer_commons_df['buyer_id'].unique():\n",
    "        user_items = buyer_commons_df.loc[buyer_commons_df['buyer_id'] == user_id, 'item_id'].values[0]\n",
    "        user_items = list(zip(*user_items))\n",
    "\n",
    "        res_tmp_df = pd.DataFrame({'item_id' : user_items[0], 'freq' : user_items[1], 'user' : 1})\n",
    "        res_tmp_df['freq'] = res_tmp_df['freq'] / user_cart.loc[user_cart['buyer_id'] == user_id, 'pav_order_id'].values[0]\n",
    "        res_df = pd.concat([res_df, res_tmp_df])\n",
    "\n",
    "    ## Удаляем из рекомендации товары уже добавленные в корзины\n",
    "    res_df = res_df[~res_df['item_id'].isin(basket)]\n",
    "    ## Находим суммарные вероятности для товаров и возвращаем 20 самых популярных\n",
    "    return res_df.groupby('item_id', as_index=False).agg({'freq' : sum, 'user' : max}).sort_values(['freq'], ascending=False).head(20)['item_id'].values.tolist()"
   ]
  },
  {
   "cell_type": "code",
   "execution_count": null,
   "metadata": {
    "colab": {
     "base_uri": "https://localhost:8080/"
    },
    "id": "Wzy71LJV_4Qr",
    "outputId": "47724600-6f28-47dd-dd07-e70b95f67f71"
   },
   "outputs": [],
   "source": [
    "from tqdm import tqdm\n",
    "tqdm.pandas()\n",
    "\n",
    "pred_df['preds'] = pred_df[['basket', 'buyer_id']].progress_apply(preds_for_basket, axis=1)"
   ]
  },
  {
   "cell_type": "code",
   "execution_count": null,
   "metadata": {
    "id": "rdW1MCriCk8J"
   },
   "outputs": [],
   "source": [
    "pred_df[['pav_order_id', 'preds']].to_csv('preds.csv', index=False)"
   ]
  },
  {
   "cell_type": "code",
   "execution_count": null,
   "metadata": {},
   "outputs": [],
   "source": []
  }
 ],
 "metadata": {
  "colab": {
   "collapsed_sections": [],
   "name": "Lenta2.ipynb",
   "provenance": []
  },
  "kernelspec": {
   "display_name": "Python 3 (ipykernel)",
   "language": "python",
   "name": "python3"
  },
  "language_info": {
   "codemirror_mode": {
    "name": "ipython",
    "version": 3
   },
   "file_extension": ".py",
   "mimetype": "text/x-python",
   "name": "python",
   "nbconvert_exporter": "python",
   "pygments_lexer": "ipython3",
   "version": "3.9.7"
  }
 },
 "nbformat": 4,
 "nbformat_minor": 4
}

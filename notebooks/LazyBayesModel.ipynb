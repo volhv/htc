{
 "cells": [
  {
   "cell_type": "code",
   "execution_count": 1,
   "id": "93fb5c9b-32d1-4ede-813f-333b72b5df24",
   "metadata": {},
   "outputs": [],
   "source": [
    "\n",
    "\n",
    "\n",
    "\n",
    "# %load_ext autoreload\n",
    "# %autoreload 2\n",
    "\n",
    "import pandas as pd\n",
    "\n",
    "hist_data = pd.read_csv('../datasets/hist_data.csv.gz')\n",
    "test_data = pd.read_csv('../datasets/test.csv.gz')\n"
   ]
  },
  {
   "cell_type": "code",
   "execution_count": 2,
   "id": "3c9ebc86-6dcb-4da6-b0fc-8e8ed3281ef1",
   "metadata": {},
   "outputs": [],
   "source": [
    "import numpy as np\n",
    "import pandas as pd\n",
    "\n",
    "from sklearn.model_selection import train_test_split\n",
    "\n",
    "\n",
    "# метрики оцениваются для вектора релевантности. пример:\n",
    "# реальные item_id, которые приобрел покупатель: [1 ,4, 5, 69]\n",
    "# рекомендованные алгоритмом item_id: [4, 6, 7, 8, 1, 2, 67, 90]\n",
    "# тогда вектор релеватности будет выглядеть следующим образом: [1, 0, 0, 0, 1, 0, 0, 0]\n",
    "# и уже по не му будет расчитываться ndcg\n",
    "def dcg(y_relevance):\n",
    "    return np.sum([(2**i - 1) / np.log2(k + 1) for (k, i) in enumerate(y_relevance, start=1)])\n",
    "\n",
    "def ndcg(y_relevance, k):\n",
    "    if y_relevance.sum() == 0:\n",
    "        return 0.0\n",
    "    DCG = dcg(y_relevance[:k])\n",
    "    IDCG = dcg(-np.sort(-y_relevance)[:k])\n",
    "    return DCG / IDCG\n",
    "\n",
    "def apply_relevance(x):\n",
    "    return [int(item in x['basket']) for item in x['preds']]\n",
    "\n",
    "def create_relevance(pred):\n",
    "    d = pred.copy()\n",
    "    d['basket'] = d['basket'].apply(set)\n",
    "    d = d.apply(apply_relevance, axis=1)\n",
    "    return d\n",
    "\n",
    "def ndcg_full_dataset(d):\n",
    "    dd = pd.DataFrame(d.to_list()).fillna(0).to_numpy()\n",
    "    k = dd.shape[1]\n",
    "    scores = [ndcg(dd[i], k) for i in range(len(dd))]\n",
    "    return np.mean(scores)\n",
    "\n",
    "def compute_ndcg_score(pred):\n",
    "    relevance = create_relevance(pred)\n",
    "    return ndcg_full_dataset(relevance)\n",
    "\n",
    "\n",
    "\n",
    "\n",
    "def split_data(data, test_size=0.3):\n",
    "    orders_sort = data[['pav_order_id', 'created']].drop_duplicates().sort_values(by=['created', 'pav_order_id'])\n",
    "    train_orders, test_orders = train_test_split(orders_sort['pav_order_id'].tolist(), test_size=test_size, shuffle=False)\n",
    "    train_orders, test_orders = set(train_orders), set(test_orders)\n",
    "    train = data[data['pav_order_id'].apply(lambda x: x in train_orders)]\n",
    "    test = data[data['pav_order_id'].apply(lambda x: x in test_orders)]\n",
    "    return train, test, orders_sort, train_orders, test_orders\n",
    "\n",
    "\n",
    "class CartModel(object):\n",
    "    \n",
    "    def __init__(self, **kwargs):\n",
    "        self.kwargs = kwargs\n",
    "        \n",
    "    def param(self, name, default=None):\n",
    "        if name in self.kwargs: \n",
    "            return self.kwargs[name]\n",
    "        else: \n",
    "            return default\n",
    "    \n",
    "    def train(self, X_train):\n",
    "        raise RuntimeException(\"Not Implemented\")\n",
    "    \n",
    "    def predict(self, X_test):\n",
    "        raise RuntimeException(\"Not Implemented\")\n",
    "    \n",
    "    \n",
    "    def to_basket(self, X_test, addcols=['buyer_id']):\n",
    "        basket = X_test.groupby([*addcols, 'pav_order_id'])['item_id'].agg([('basket', list)])\n",
    "        return basket\n",
    "    \n",
    "    def quality(self, X_val):\n",
    "        basket = self.predict(X_val)\n",
    "        score = compute_ndcg_score(basket)\n",
    "        return score"
   ]
  },
  {
   "cell_type": "code",
   "execution_count": 3,
   "id": "0de2b31e-0885-4a68-aeff-4d213b949776",
   "metadata": {},
   "outputs": [],
   "source": [
    "\n",
    "import pandas as pd\n",
    "import numpy as np\n",
    "from collections import Counter \n",
    "\n",
    "def softmax(x):\n",
    "    w = np.exp(x)\n",
    "    rz = w / np.sum(w)\n",
    "    return rz\n",
    "\n",
    "class LazyBayesModel(CartModel):\n",
    "\n",
    "    def __init__(self, **kwargs):\n",
    "        CartModel.__init__(self, **kwargs)\n",
    "        self.top_n = self.param(\"top_n\", 10)\n",
    "        self.most_freq_dict = None\n",
    "        self.eps = self.param(\"eps\", 1e-5)\n",
    "    \n",
    "    def train(self, X_train, C0 = 50, C1 = 2):\n",
    "        top_n = self.top_n\n",
    "        pairs = X_train[['item_id', 'pav_order_id']]\\\n",
    "                .sort_values(['item_id', 'pav_order_id'])\\\n",
    "                .merge(X_train[['item_id', 'pav_order_id']], \n",
    "                       how='left', on=['pav_order_id'], suffixes=('', '_left'))\n",
    "        \n",
    "        q = pairs.item_id != pairs.item_id_left\n",
    "        \n",
    "        # совстречаемость товаров c(xy)\n",
    "        pairs['cnt'] = 1.\n",
    "        xy = pairs[q][['item_id', 'item_id_left', 'cnt']]\\\n",
    "                    .groupby(['item_id', 'item_id_left'])[[\"cnt\"]]\\\n",
    "                    .count()\\\n",
    "                    .rename({'cnt':'xy'}, axis=1)\\\n",
    "                    .reset_index()\n",
    "        \n",
    "        q = xy['xy'] >= C0\n",
    "        xy = xy.loc[q]\n",
    "        \n",
    "        # частотность товара в парах c(x)\n",
    "        x = pairs.groupby([\"item_id\"])[[\"cnt\"]]\\\n",
    "                    .count()\\\n",
    "                    .rename({'cnt':'x'}, axis=1)\\\n",
    "                    .reset_index()\n",
    "        \n",
    "        # если купили товар X, грубо оцениваем вероятность\n",
    "        # C - shrinkage term\n",
    "        # p(y|x) = с(xy) / с(x)\n",
    "        ptrs1 = xy.merge(x, on=\"item_id\")\n",
    "        ptrs1[\"y|x\"] = ptrs1[\"xy\"] / (ptrs1[\"x\"])\n",
    "        \n",
    "        # buyers = X_train[[\"buyer_id\", \"item_id\", \"count\"]]#.drop_duplicates()\n",
    "        # buyers = np.exp(-(buyers['count'].max() - buyers['count']) / (buyers['count'].mean()))\n",
    "        \n",
    "        buyers = X_train[[\"buyer_id\", \"item_id\"]] #.drop_duplicates()\n",
    "        buyers[\"count\"] = 1\n",
    "        u = buyers.groupby([\"buyer_id\"])[[\"count\"]]\\\n",
    "                    .count()\\\n",
    "                    .rename({'count':'u'}, axis=1)\\\n",
    "                    .reset_index()\n",
    "        \n",
    "        xu = buyers.groupby([\"item_id\", \"buyer_id\"])[[\"count\"]]\\\n",
    "                    .count()\\\n",
    "                    .rename({'count':'xu'}, axis=1)\\\n",
    "                    .reset_index()\n",
    "        \n",
    "        q = xu['xu'] >= C1\n",
    "        ptrs2 = xu.merge(u, on=\"buyer_id\")\n",
    "        ptrs2[\"x|u\"] = ptrs2[\"xu\"] / (ptrs2[\"u\"])\n",
    "        \n",
    "        self.ptrs1 = ptrs1[ ptrs1[\"y|x\"] >= self.eps]\n",
    "        self.ptrs2 = ptrs2[ ptrs2[\"x|u\"] >= self.eps]\n",
    "        self.ptrs2 = self.ptrs2.rename({\"item_id\":\"item_id_left\"}, axis=1)\n",
    "    \n",
    "    def predict(self, X_test):\n",
    "        # add \"recently_bought\" feature\n",
    "        preds = self.to_basket(X_test)\n",
    "        X_test[\"cnt\"] = 1\n",
    "        # support = X_test.groupby([\"item_id\"])[[\"cnt\"]]\\\n",
    "        #             .count()\\\n",
    "        #             .reset_index()\\\n",
    "        #             .rename({'cnt':'x1', 'item_id':'item_id_left'}, axis=1)\n",
    "        \n",
    "        basket_items = X_test[[\"buyer_id\", \"pav_order_id\", \"item_id\"]]\n",
    "        basket_recs = basket_items.merge(self.ptrs1, on=[\"item_id\"])\n",
    "        basket_recs1 = basket_recs.groupby(\n",
    "            [\"buyer_id\", \"pav_order_id\", \"item_id_left\"], as_index=False)[[\"y|x\"]].sum()\n",
    "        \n",
    "        user_recs = basket_items.merge(self.ptrs2, on=[\"buyer_id\"])\n",
    "        basket_recs2 = user_recs.groupby(\n",
    "            [\"buyer_id\", \"pav_order_id\", \"item_id_left\"], as_index=False)[[\"x|u\"]].sum()\n",
    "        \n",
    "        idx = preds.reset_index()\n",
    "        idx = idx[[\"buyer_id\", \"pav_order_id\"]]\n",
    "        relevance = idx.merge(basket_recs1, on=[\"buyer_id\", \"pav_order_id\"], how=\"left\")\\\n",
    "                       .merge(basket_recs2, on=[\"buyer_id\", \"pav_order_id\", \"item_id_left\"], how=\"left\")\\\n",
    "                       .fillna(self.eps)\n",
    "        \n",
    "        \n",
    "        relevance[\"score\"] = relevance[\"y|x\"] + relevance[\"x|u\"]\n",
    "        relevance = relevance.merge(preds, on=[\"buyer_id\", \"pav_order_id\"])\n",
    "        def select(df):\n",
    "            q = ~df.item_id_left.isin(df.basket)\n",
    "            df = df[q].sort_values(by=\"score\", ascending=False).head(self.top_n)\n",
    "            return [*df.item_id_left]\n",
    "        \n",
    "        predicted = relevance.groupby([\"buyer_id\", \"pav_order_id\"]).apply(select)\n",
    "        preds[\"preds\"] = predicted\n",
    "        \n",
    "        preds = preds.sort_values(by=\"pav_order_id\")\n",
    "        \n",
    "        return preds\n",
    "\n",
    "\n",
    "    \n",
    "\n"
   ]
  },
  {
   "cell_type": "code",
   "execution_count": null,
   "id": "37de5098-b461-4bd3-94f4-03bf74429b70",
   "metadata": {},
   "outputs": [],
   "source": []
  },
  {
   "cell_type": "code",
   "execution_count": 4,
   "id": "dfafbe96-5a4e-47a4-8040-f48fc18cd96c",
   "metadata": {},
   "outputs": [],
   "source": [
    "\n",
    "from models.core import split_data\n",
    "\n",
    "\n",
    "# разобьем историю в отношении 70 на 30 для трейна и валидации\n",
    "train_data_split, test_data_split, orders_sort, train_orders, test_orders = split_data(hist_data)\n",
    "\n",
    "\n"
   ]
  },
  {
   "cell_type": "code",
   "execution_count": 5,
   "id": "1293f94f-b879-49ec-b911-68b7302d896c",
   "metadata": {},
   "outputs": [
    {
     "name": "stderr",
     "output_type": "stream",
     "text": [
      "/tmp/ipykernel_1592/1896853387.py:54: SettingWithCopyWarning: \n",
      "A value is trying to be set on a copy of a slice from a DataFrame.\n",
      "Try using .loc[row_indexer,col_indexer] = value instead\n",
      "\n",
      "See the caveats in the documentation: https://pandas.pydata.org/pandas-docs/stable/user_guide/indexing.html#returning-a-view-versus-a-copy\n",
      "  buyers[\"count\"] = 1\n",
      "/tmp/ipykernel_1592/1896853387.py:76: SettingWithCopyWarning: \n",
      "A value is trying to be set on a copy of a slice from a DataFrame.\n",
      "Try using .loc[row_indexer,col_indexer] = value instead\n",
      "\n",
      "See the caveats in the documentation: https://pandas.pydata.org/pandas-docs/stable/user_guide/indexing.html#returning-a-view-versus-a-copy\n",
      "  X_test[\"cnt\"] = 1\n"
     ]
    },
    {
     "data": {
      "text/plain": [
       "0.5011284959981711"
      ]
     },
     "execution_count": 5,
     "metadata": {},
     "output_type": "execute_result"
    }
   ],
   "source": [
    "model = LazyBayesModel(top_n = 15)\n",
    "model.train(train_data_split)\n",
    "model.quality(test_data_split)"
   ]
  },
  {
   "cell_type": "code",
   "execution_count": null,
   "id": "520c3892-2219-4232-844a-99b01635b0f7",
   "metadata": {},
   "outputs": [],
   "source": []
  },
  {
   "cell_type": "markdown",
   "id": "96552400-df96-4853-b555-9eb8a841c37f",
   "metadata": {},
   "source": [
    "### Prepare Submission File"
   ]
  },
  {
   "cell_type": "code",
   "execution_count": 6,
   "id": "1b3f51cf-7458-4865-803c-7733ffd6134f",
   "metadata": {},
   "outputs": [],
   "source": [
    "hist_data = pd.read_csv('../datasets/hist_data.csv.gz')\n",
    "test_data = pd.read_csv('../datasets/test.csv.gz')"
   ]
  },
  {
   "cell_type": "code",
   "execution_count": 7,
   "id": "0da32cdf-5bfc-450e-b0e9-a5d7065c2692",
   "metadata": {
    "tags": []
   },
   "outputs": [],
   "source": [
    "model = LazyBayesModel(top_n = 20)"
   ]
  },
  {
   "cell_type": "code",
   "execution_count": 8,
   "id": "86660522-7313-4d32-a47b-5dcb2c82f616",
   "metadata": {},
   "outputs": [
    {
     "name": "stderr",
     "output_type": "stream",
     "text": [
      "/tmp/ipykernel_1592/1896853387.py:54: SettingWithCopyWarning: \n",
      "A value is trying to be set on a copy of a slice from a DataFrame.\n",
      "Try using .loc[row_indexer,col_indexer] = value instead\n",
      "\n",
      "See the caveats in the documentation: https://pandas.pydata.org/pandas-docs/stable/user_guide/indexing.html#returning-a-view-versus-a-copy\n",
      "  buyers[\"count\"] = 1\n"
     ]
    }
   ],
   "source": [
    "# model.train(hist_data.sample(1000))\n",
    "model.train(hist_data)"
   ]
  },
  {
   "cell_type": "code",
   "execution_count": 9,
   "id": "add14c5f-8c3d-40f7-abc9-b4b31df726d4",
   "metadata": {},
   "outputs": [],
   "source": [
    "test = model.predict(test_data)"
   ]
  },
  {
   "cell_type": "code",
   "execution_count": 10,
   "id": "01aa6523-40f1-4f59-a4e0-273027a29eae",
   "metadata": {},
   "outputs": [],
   "source": [
    "test.reset_index()[['pav_order_id', 'preds']]\\\n",
    "    .sort_values(by='pav_order_id').to_csv('pred.csv', index=False)"
   ]
  },
  {
   "cell_type": "code",
   "execution_count": null,
   "id": "56e50d2d-37e6-4667-be0b-5974759eedae",
   "metadata": {},
   "outputs": [],
   "source": []
  },
  {
   "cell_type": "code",
   "execution_count": null,
   "id": "4298069f-8f48-4cb1-be2a-22f2a7683062",
   "metadata": {},
   "outputs": [],
   "source": [
    "model.quality(test_data)"
   ]
  },
  {
   "cell_type": "code",
   "execution_count": null,
   "id": "f478fe1b-95cc-486e-a118-44eaec3efd3a",
   "metadata": {},
   "outputs": [],
   "source": []
  },
  {
   "cell_type": "code",
   "execution_count": null,
   "id": "ffd6ce70-c0ff-4936-9687-08ef561c0b5c",
   "metadata": {},
   "outputs": [],
   "source": []
  }
 ],
 "metadata": {
  "kernelspec": {
   "display_name": "Python 3 (ipykernel)",
   "language": "python",
   "name": "python3"
  },
  "language_info": {
   "codemirror_mode": {
    "name": "ipython",
    "version": 3
   },
   "file_extension": ".py",
   "mimetype": "text/x-python",
   "name": "python",
   "nbconvert_exporter": "python",
   "pygments_lexer": "ipython3",
   "version": "3.9.7"
  }
 },
 "nbformat": 4,
 "nbformat_minor": 5
}
